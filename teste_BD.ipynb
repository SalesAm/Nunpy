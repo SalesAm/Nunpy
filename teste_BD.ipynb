{
 "cells": [
  {
   "cell_type": "markdown",
   "metadata": {},
   "source": [
    "# Análise de banco de dados\n",
    "\n",
    "**Disciplina**: Programação para Ciência dos Dados  \n",
    "**Dicentes**: Emily Sales e Emiliandro \n",
    "\n",
    "\n",
    "## Apresentação\n",
    "\n",
    "No cenário atual com o novo corona vírus e a grande preocupação da população mundial a respeito deste assunto, achou-se necessário fazer uma análise simples para por em prátia o conteúdo compartilhado em sala de aula.\n",
    "\n",
    "**Objetivo:**\n",
    "Separar as dúvidas/perguntas sobre o COVID-19 e observar quais tipos de questionamentos mais feito na rede social relacionado ao vírus.\n",
    "Qual personalidade mais comentada na rede quando o assunto é COVID-19. \n",
    "Se possível qual a região que mais questiona sobre o vírus.y."
   ]
  },
  {
   "cell_type": "code",
   "execution_count": 4,
   "metadata": {},
   "outputs": [
    {
     "ename": "SyntaxError",
     "evalue": "invalid syntax (<ipython-input-4-d8adfebe27fe>, line 1)",
     "output_type": "error",
     "traceback": [
      "\u001b[1;36m  File \u001b[1;32m\"<ipython-input-4-d8adfebe27fe>\"\u001b[1;36m, line \u001b[1;32m1\u001b[0m\n\u001b[1;33m    python-m pip install --upgrade pip\u001b[0m\n\u001b[1;37m               ^\u001b[0m\n\u001b[1;31mSyntaxError\u001b[0m\u001b[1;31m:\u001b[0m invalid syntax\n"
     ]
    }
   ],
   "source": [
    "python-m pip install --upgrade pip"
   ]
  },
  {
   "cell_type": "code",
   "execution_count": 7,
   "metadata": {},
   "outputs": [
    {
     "name": "stdout",
     "output_type": "stream",
     "text": [
      "Requirement already satisfied: pandas in c:\\users\\hp\\appdata\\local\\programs\\python\\python37\\lib\\site-packages (1.1.3)Note: you may need to restart the kernel to use updated packages.\n"
     ]
    },
    {
     "name": "stderr",
     "output_type": "stream",
     "text": [
      "WARNING: You are using pip version 19.2.3, however version 20.2.3 is available.\n",
      "You should consider upgrading via the 'python -m pip install --upgrade pip' command.\n"
     ]
    },
    {
     "name": "stdout",
     "output_type": "stream",
     "text": [
      "\n",
      "Requirement already satisfied: numpy>=1.15.4 in c:\\users\\hp\\appdata\\local\\programs\\python\\python37\\lib\\site-packages (from pandas) (1.19.2)\n",
      "Requirement already satisfied: pytz>=2017.2 in c:\\users\\hp\\appdata\\local\\programs\\python\\python37\\lib\\site-packages (from pandas) (2020.1)\n",
      "Requirement already satisfied: python-dateutil>=2.7.3 in c:\\users\\hp\\appdata\\local\\programs\\python\\python37\\lib\\site-packages (from pandas) (2.8.1)\n",
      "Requirement already satisfied: six>=1.5 in c:\\users\\hp\\appdata\\local\\programs\\python\\python37\\lib\\site-packages (from python-dateutil>=2.7.3->pandas) (1.15.0)\n"
     ]
    }
   ],
   "source": [
    "pip install pandas \n"
   ]
  },
  {
   "cell_type": "code",
   "execution_count": 8,
   "metadata": {},
   "outputs": [
    {
     "ename": "SyntaxError",
     "evalue": "invalid syntax (<ipython-input-8-9713634bfc81>, line 1)",
     "output_type": "error",
     "traceback": [
      "\u001b[1;36m  File \u001b[1;32m\"<ipython-input-8-9713634bfc81>\"\u001b[1;36m, line \u001b[1;32m1\u001b[0m\n\u001b[1;33m    pip install datetime\u001b[0m\n\u001b[1;37m              ^\u001b[0m\n\u001b[1;31mSyntaxError\u001b[0m\u001b[1;31m:\u001b[0m invalid syntax\n"
     ]
    }
   ],
   "source": [
    "pip install datetime\n",
    " "
   ]
  },
  {
   "cell_type": "code",
   "execution_count": 9,
   "metadata": {},
   "outputs": [
    {
     "name": "stdout",
     "output_type": "stream",
     "text": [
      "Requirement already satisfied: numpy in c:\\users\\hp\\appdata\\local\\programs\\python\\python37\\lib\\site-packages (1.19.2)\n",
      "Note: you may need to restart the kernel to use updated packages.\n"
     ]
    },
    {
     "name": "stderr",
     "output_type": "stream",
     "text": [
      "WARNING: You are using pip version 19.2.3, however version 20.2.3 is available.\n",
      "You should consider upgrading via the 'python -m pip install --upgrade pip' command.\n"
     ]
    }
   ],
   "source": [
    "pip install numpy \n"
   ]
  },
  {
   "cell_type": "code",
   "execution_count": 11,
   "metadata": {},
   "outputs": [
    {
     "name": "stdout",
     "output_type": "stream",
     "text": [
      "Collecting matplotlibNote: you may need to restart the kernel to use updated packages.\n"
     ]
    },
    {
     "name": "stderr",
     "output_type": "stream",
     "text": [
      "WARNING: You are using pip version 19.2.3, however version 20.2.3 is available.\n",
      "You should consider upgrading via the 'python -m pip install --upgrade pip' command.\n"
     ]
    },
    {
     "name": "stdout",
     "output_type": "stream",
     "text": [
      "\n",
      "  Downloading https://files.pythonhosted.org/packages/81/51/dadfa4433ec13d9966393b1726a5c22d7773433aa7797b48980965f32e07/matplotlib-3.3.2-cp37-cp37m-win_amd64.whl (8.5MB)\n",
      "Requirement already satisfied: pyparsing!=2.0.4,!=2.1.2,!=2.1.6,>=2.0.3 in c:\\users\\hp\\appdata\\local\\programs\\python\\python37\\lib\\site-packages (from matplotlib) (2.4.7)\n",
      "Requirement already satisfied: python-dateutil>=2.1 in c:\\users\\hp\\appdata\\local\\programs\\python\\python37\\lib\\site-packages (from matplotlib) (2.8.1)\n",
      "Collecting cycler>=0.10 (from matplotlib)\n",
      "  Downloading https://files.pythonhosted.org/packages/f7/d2/e07d3ebb2bd7af696440ce7e754c59dd546ffe1bbe732c8ab68b9c834e61/cycler-0.10.0-py2.py3-none-any.whl\n",
      "Requirement already satisfied: numpy>=1.15 in c:\\users\\hp\\appdata\\local\\programs\\python\\python37\\lib\\site-packages (from matplotlib) (1.19.2)\n",
      "Collecting pillow>=6.2.0 (from matplotlib)\n",
      "  Downloading https://files.pythonhosted.org/packages/36/fd/f83806d04175c0a58332578143ee7a9c5702e6e0f134e157684c737ae55b/Pillow-7.2.0-cp37-cp37m-win_amd64.whl (2.1MB)\n",
      "Collecting kiwisolver>=1.0.1 (from matplotlib)\n",
      "  Downloading https://files.pythonhosted.org/packages/7e/e5/d8bd2d063da3b6761270f29038d2bb9785c88ff385009bf61589cde6e6ef/kiwisolver-1.2.0-cp37-none-win_amd64.whl (57kB)\n",
      "Collecting certifi>=2020.06.20 (from matplotlib)\n",
      "  Downloading https://files.pythonhosted.org/packages/5e/c4/6c4fe722df5343c33226f0b4e0bb042e4dc13483228b4718baf286f86d87/certifi-2020.6.20-py2.py3-none-any.whl (156kB)\n",
      "Requirement already satisfied: six>=1.5 in c:\\users\\hp\\appdata\\local\\programs\\python\\python37\\lib\\site-packages (from python-dateutil>=2.1->matplotlib) (1.15.0)\n",
      "Installing collected packages: cycler, pillow, kiwisolver, certifi, matplotlib\n",
      "Successfully installed certifi-2020.6.20 cycler-0.10.0 kiwisolver-1.2.0 matplotlib-3.3.2 pillow-7.2.0\n"
     ]
    }
   ],
   "source": [
    "pip install matplotlib\n"
   ]
  },
  {
   "cell_type": "code",
   "execution_count": 12,
   "metadata": {},
   "outputs": [
    {
     "name": "stdout",
     "output_type": "stream",
     "text": [
      "Collecting folium\n",
      "  Downloading https://files.pythonhosted.org/packages/a4/f0/44e69d50519880287cc41e7c8a6acc58daa9a9acf5f6afc52bcc70f69a6d/folium-0.11.0-py2.py3-none-any.whl (93kB)\n",
      "Requirement already satisfied: jinja2>=2.9 in c:\\users\\hp\\appdata\\local\\programs\\python\\python37\\lib\\site-packages (from folium) (2.11.2)\n",
      "Requirement already satisfied: numpy in c:\\users\\hp\\appdata\\local\\programs\\python\\python37\\lib\\site-packages (from folium) (1.19.2)\n",
      "Collecting requests (from folium)\n",
      "  Downloading https://files.pythonhosted.org/packages/45/1e/0c169c6a5381e241ba7404532c16a21d86ab872c9bed8bdcd4c423954103/requests-2.24.0-py2.py3-none-any.whl (61kB)\n",
      "Collecting branca>=0.3.0 (from folium)\n",
      "  Downloading https://files.pythonhosted.org/packages/13/fb/9eacc24ba3216510c6b59a4ea1cd53d87f25ba76237d7f4393abeaf4c94e/branca-0.4.1-py3-none-any.whl\n",
      "Requirement already satisfied: MarkupSafe>=0.23 in c:\\users\\hp\\appdata\\local\\programs\\python\\python37\\lib\\site-packages (from jinja2>=2.9->folium) (1.1.1)\n",
      "Collecting idna<3,>=2.5 (from requests->folium)\n",
      "  Downloading https://files.pythonhosted.org/packages/a2/38/928ddce2273eaa564f6f50de919327bf3a00f091b5baba8dfa9460f3a8a8/idna-2.10-py2.py3-none-any.whl (58kB)\n",
      "Collecting chardet<4,>=3.0.2 (from requests->folium)\n",
      "  Downloading https://files.pythonhosted.org/packages/bc/a9/01ffebfb562e4274b6487b4bb1ddec7ca55ec7510b22e4c51f14098443b8/chardet-3.0.4-py2.py3-none-any.whl (133kB)\n",
      "Collecting urllib3!=1.25.0,!=1.25.1,<1.26,>=1.21.1 (from requests->folium)\n",
      "  Downloading https://files.pythonhosted.org/packages/9f/f0/a391d1463ebb1b233795cabfc0ef38d3db4442339de68f847026199e69d7/urllib3-1.25.10-py2.py3-none-any.whl (127kB)\n",
      "Requirement already satisfied: certifi>=2017.4.17 in c:\\users\\hp\\appdata\\local\\programs\\python\\python37\\lib\\site-packages (from requests->folium) (2020.6.20)\n",
      "Installing collected packages: idna, chardet, urllib3, requests, branca, folium\n",
      "Successfully installed branca-0.4.1 chardet-3.0.4 folium-0.11.0 idna-2.10 requests-2.24.0 urllib3-1.25.10\n",
      "Note: you may need to restart the kernel to use updated packages.\n"
     ]
    },
    {
     "name": "stderr",
     "output_type": "stream",
     "text": [
      "WARNING: You are using pip version 19.2.3, however version 20.2.3 is available.\n",
      "You should consider upgrading via the 'python -m pip install --upgrade pip' command.\n"
     ]
    }
   ],
   "source": [
    "pip install folium \n"
   ]
  },
  {
   "cell_type": "code",
   "execution_count": 13,
   "metadata": {},
   "outputs": [
    {
     "name": "stdout",
     "output_type": "stream",
     "text": [
      "Collecting folium.plugins\n",
      "Note: you may need to restart the kernel to use updated packages.\n"
     ]
    },
    {
     "name": "stderr",
     "output_type": "stream",
     "text": [
      "  ERROR: Could not find a version that satisfies the requirement folium.plugins (from versions: none)\n",
      "ERROR: No matching distribution found for folium.plugins\n",
      "WARNING: You are using pip version 19.2.3, however version 20.2.3 is available.\n",
      "You should consider upgrading via the 'python -m pip install --upgrade pip' command.\n"
     ]
    }
   ],
   "source": [
    "pip install folium.plugins"
   ]
  },
  {
   "cell_type": "code",
   "execution_count": 91,
   "metadata": {},
   "outputs": [],
   "source": [
    "import pandas as pd\n",
    "import datetime\n",
    "import numpy as np\n",
    "import matplotlib.pyplot as plt\n",
    "import folium \n",
    "import folium.plugins as plugins"
   ]
  },
  {
   "cell_type": "code",
   "execution_count": 92,
   "metadata": {},
   "outputs": [],
   "source": [
    "BD = pd.read_csv('interrog.csv')"
   ]
  },
  {
   "cell_type": "code",
   "execution_count": 93,
   "metadata": {
    "scrolled": true
   },
   "outputs": [
    {
     "data": {
      "text/html": [
       "<div>\n",
       "<style scoped>\n",
       "    .dataframe tbody tr th:only-of-type {\n",
       "        vertical-align: middle;\n",
       "    }\n",
       "\n",
       "    .dataframe tbody tr th {\n",
       "        vertical-align: top;\n",
       "    }\n",
       "\n",
       "    .dataframe thead th {\n",
       "        text-align: right;\n",
       "    }\n",
       "</style>\n",
       "<table border=\"1\" class=\"dataframe\">\n",
       "  <thead>\n",
       "    <tr style=\"text-align: right;\">\n",
       "      <th></th>\n",
       "      <th>posicao</th>\n",
       "      <th>apelido</th>\n",
       "      <th>data</th>\n",
       "      <th>texto</th>\n",
       "      <th>idioma</th>\n",
       "      <th>pais</th>\n",
       "      <th>latitude</th>\n",
       "      <th>longitude</th>\n",
       "      <th>sigla</th>\n",
       "      <th>lugar</th>\n",
       "      <th>resumo</th>\n",
       "    </tr>\n",
       "  </thead>\n",
       "  <tbody>\n",
       "    <tr>\n",
       "      <th>0</th>\n",
       "      <td>0</td>\n",
       "      <td>renataluanut</td>\n",
       "      <td>2020-01-20 13:15:57</td>\n",
       "      <td>por que será que focar no resultado final pode...</td>\n",
       "      <td>pt</td>\n",
       "      <td>brazil</td>\n",
       "      <td>-38.476700</td>\n",
       "      <td>-12.974700</td>\n",
       "      <td>BR</td>\n",
       "      <td>salvador</td>\n",
       "      <td>NaN</td>\n",
       "    </tr>\n",
       "    <tr>\n",
       "      <th>1</th>\n",
       "      <td>1</td>\n",
       "      <td>ac_q</td>\n",
       "      <td>2020-01-21 23:36:11</td>\n",
       "      <td>coronavirus e vc sem plano de saúde? proteção!...</td>\n",
       "      <td>pt</td>\n",
       "      <td>brazil</td>\n",
       "      <td>-34.925700</td>\n",
       "      <td>-8.060500</td>\n",
       "      <td>BR</td>\n",
       "      <td>recife</td>\n",
       "      <td>NaN</td>\n",
       "    </tr>\n",
       "    <tr>\n",
       "      <th>2</th>\n",
       "      <td>2</td>\n",
       "      <td>fabiorochapoeta</td>\n",
       "      <td>2020-01-29 22:28:29</td>\n",
       "      <td>como pode ser mais divertido?😂😂😂😂\\n.\\n.\\n.\\n.\\...</td>\n",
       "      <td>pt</td>\n",
       "      <td>brazil</td>\n",
       "      <td>-43.468900</td>\n",
       "      <td>-23.017800</td>\n",
       "      <td>BR</td>\n",
       "      <td>rio de janeiro</td>\n",
       "      <td>NaN</td>\n",
       "    </tr>\n",
       "    <tr>\n",
       "      <th>3</th>\n",
       "      <td>3</td>\n",
       "      <td>aleksandro_</td>\n",
       "      <td>2020-01-31 20:44:53</td>\n",
       "      <td>quem vence ??? \\n#coronavirus #kkkkkk em diade...</td>\n",
       "      <td>pt</td>\n",
       "      <td>brazil</td>\n",
       "      <td>-46.610600</td>\n",
       "      <td>-23.686100</td>\n",
       "      <td>BR</td>\n",
       "      <td>diadema</td>\n",
       "      <td>NaN</td>\n",
       "    </tr>\n",
       "    <tr>\n",
       "      <th>4</th>\n",
       "      <td>4</td>\n",
       "      <td>tracosdenanquim</td>\n",
       "      <td>2020-02-01 23:38:37</td>\n",
       "      <td>o presidente pode tbm editar uma mp e regulame...</td>\n",
       "      <td>pt</td>\n",
       "      <td>brazil</td>\n",
       "      <td>-47.955884</td>\n",
       "      <td>-15.823753</td>\n",
       "      <td>BR</td>\n",
       "      <td>brasília</td>\n",
       "      <td>NaN</td>\n",
       "    </tr>\n",
       "  </tbody>\n",
       "</table>\n",
       "</div>"
      ],
      "text/plain": [
       "   posicao          apelido                 data  \\\n",
       "0        0     renataluanut  2020-01-20 13:15:57   \n",
       "1        1             ac_q  2020-01-21 23:36:11   \n",
       "2        2  fabiorochapoeta  2020-01-29 22:28:29   \n",
       "3        3      aleksandro_  2020-01-31 20:44:53   \n",
       "4        4  tracosdenanquim  2020-02-01 23:38:37   \n",
       "\n",
       "                                               texto idioma    pais  \\\n",
       "0  por que será que focar no resultado final pode...     pt  brazil   \n",
       "1  coronavirus e vc sem plano de saúde? proteção!...     pt  brazil   \n",
       "2  como pode ser mais divertido?😂😂😂😂\\n.\\n.\\n.\\n.\\...     pt  brazil   \n",
       "3  quem vence ??? \\n#coronavirus #kkkkkk em diade...     pt  brazil   \n",
       "4  o presidente pode tbm editar uma mp e regulame...     pt  brazil   \n",
       "\n",
       "    latitude  longitude sigla           lugar  resumo  \n",
       "0 -38.476700 -12.974700    BR        salvador     NaN  \n",
       "1 -34.925700  -8.060500    BR          recife     NaN  \n",
       "2 -43.468900 -23.017800    BR  rio de janeiro     NaN  \n",
       "3 -46.610600 -23.686100    BR         diadema     NaN  \n",
       "4 -47.955884 -15.823753    BR        brasília     NaN  "
      ]
     },
     "execution_count": 93,
     "metadata": {},
     "output_type": "execute_result"
    }
   ],
   "source": [
    "BD.head()"
   ]
  },
  {
   "cell_type": "code",
   "execution_count": 22,
   "metadata": {},
   "outputs": [
    {
     "data": {
      "text/html": [
       "<div>\n",
       "<style scoped>\n",
       "    .dataframe tbody tr th:only-of-type {\n",
       "        vertical-align: middle;\n",
       "    }\n",
       "\n",
       "    .dataframe tbody tr th {\n",
       "        vertical-align: top;\n",
       "    }\n",
       "\n",
       "    .dataframe thead th {\n",
       "        text-align: right;\n",
       "    }\n",
       "</style>\n",
       "<table border=\"1\" class=\"dataframe\">\n",
       "  <thead>\n",
       "    <tr style=\"text-align: right;\">\n",
       "      <th></th>\n",
       "      <th>posicao</th>\n",
       "      <th>apelido</th>\n",
       "      <th>data</th>\n",
       "      <th>texto</th>\n",
       "      <th>idioma</th>\n",
       "      <th>pais</th>\n",
       "      <th>latitude</th>\n",
       "      <th>longitude</th>\n",
       "      <th>sigla</th>\n",
       "      <th>lugar</th>\n",
       "      <th>resumo</th>\n",
       "    </tr>\n",
       "  </thead>\n",
       "  <tbody>\n",
       "    <tr>\n",
       "      <th>0</th>\n",
       "      <td>0</td>\n",
       "      <td>renataluanut</td>\n",
       "      <td>2020-01-20 13:15:57</td>\n",
       "      <td>por que será que focar no resultado final pode...</td>\n",
       "      <td>pt</td>\n",
       "      <td>brazil</td>\n",
       "      <td>-38.476700</td>\n",
       "      <td>-12.974700</td>\n",
       "      <td>BR</td>\n",
       "      <td>salvador</td>\n",
       "      <td>NaN</td>\n",
       "    </tr>\n",
       "    <tr>\n",
       "      <th>1</th>\n",
       "      <td>1</td>\n",
       "      <td>ac_q</td>\n",
       "      <td>2020-01-21 23:36:11</td>\n",
       "      <td>coronavirus e vc sem plano de saúde? proteção!...</td>\n",
       "      <td>pt</td>\n",
       "      <td>brazil</td>\n",
       "      <td>-34.925700</td>\n",
       "      <td>-8.060500</td>\n",
       "      <td>BR</td>\n",
       "      <td>recife</td>\n",
       "      <td>NaN</td>\n",
       "    </tr>\n",
       "    <tr>\n",
       "      <th>2</th>\n",
       "      <td>2</td>\n",
       "      <td>fabiorochapoeta</td>\n",
       "      <td>2020-01-29 22:28:29</td>\n",
       "      <td>como pode ser mais divertido?😂😂😂😂\\n.\\n.\\n.\\n.\\...</td>\n",
       "      <td>pt</td>\n",
       "      <td>brazil</td>\n",
       "      <td>-43.468900</td>\n",
       "      <td>-23.017800</td>\n",
       "      <td>BR</td>\n",
       "      <td>rio de janeiro</td>\n",
       "      <td>NaN</td>\n",
       "    </tr>\n",
       "    <tr>\n",
       "      <th>3</th>\n",
       "      <td>3</td>\n",
       "      <td>aleksandro_</td>\n",
       "      <td>2020-01-31 20:44:53</td>\n",
       "      <td>quem vence ??? \\n#coronavirus #kkkkkk em diade...</td>\n",
       "      <td>pt</td>\n",
       "      <td>brazil</td>\n",
       "      <td>-46.610600</td>\n",
       "      <td>-23.686100</td>\n",
       "      <td>BR</td>\n",
       "      <td>diadema</td>\n",
       "      <td>NaN</td>\n",
       "    </tr>\n",
       "    <tr>\n",
       "      <th>4</th>\n",
       "      <td>4</td>\n",
       "      <td>tracosdenanquim</td>\n",
       "      <td>2020-02-01 23:38:37</td>\n",
       "      <td>o presidente pode tbm editar uma mp e regulame...</td>\n",
       "      <td>pt</td>\n",
       "      <td>brazil</td>\n",
       "      <td>-47.955884</td>\n",
       "      <td>-15.823753</td>\n",
       "      <td>BR</td>\n",
       "      <td>brasília</td>\n",
       "      <td>NaN</td>\n",
       "    </tr>\n",
       "    <tr>\n",
       "      <th>...</th>\n",
       "      <td>...</td>\n",
       "      <td>...</td>\n",
       "      <td>...</td>\n",
       "      <td>...</td>\n",
       "      <td>...</td>\n",
       "      <td>...</td>\n",
       "      <td>...</td>\n",
       "      <td>...</td>\n",
       "      <td>...</td>\n",
       "      <td>...</td>\n",
       "      <td>...</td>\n",
       "    </tr>\n",
       "    <tr>\n",
       "      <th>587</th>\n",
       "      <td>587</td>\n",
       "      <td>uberfashion</td>\n",
       "      <td>2020-06-30 19:16:58</td>\n",
       "      <td>2020 seu lindo? ⁣\\n⁣\\napenas marque seu amigo,...</td>\n",
       "      <td>pt</td>\n",
       "      <td>brazil</td>\n",
       "      <td>-42.533300</td>\n",
       "      <td>-22.266700</td>\n",
       "      <td>BR</td>\n",
       "      <td>nova friburgo</td>\n",
       "      <td>NaN</td>\n",
       "    </tr>\n",
       "    <tr>\n",
       "      <th>588</th>\n",
       "      <td>588</td>\n",
       "      <td>pimenta_cute</td>\n",
       "      <td>2020-06-30 21:07:52</td>\n",
       "      <td>o que vc está fazendo na quarentena?!\\n.\\n.\\n....</td>\n",
       "      <td>pt</td>\n",
       "      <td>brazil</td>\n",
       "      <td>-49.270700</td>\n",
       "      <td>-16.686900</td>\n",
       "      <td>BR</td>\n",
       "      <td>goiânia</td>\n",
       "      <td>NaN</td>\n",
       "    </tr>\n",
       "    <tr>\n",
       "      <th>589</th>\n",
       "      <td>589</td>\n",
       "      <td>armandopugliesi</td>\n",
       "      <td>2020-06-30 22:17:48</td>\n",
       "      <td>e aí? tá se alimentando saudável na quarentena...</td>\n",
       "      <td>pt</td>\n",
       "      <td>brazil</td>\n",
       "      <td>-34.903626</td>\n",
       "      <td>-8.127848</td>\n",
       "      <td>BR</td>\n",
       "      <td>recife</td>\n",
       "      <td>NaN</td>\n",
       "    </tr>\n",
       "    <tr>\n",
       "      <th>590</th>\n",
       "      <td>590</td>\n",
       "      <td>aposentadosel</td>\n",
       "      <td>2020-06-30 22:40:51</td>\n",
       "      <td>e no café da tarde tivemos....\\n\\nbolinho de c...</td>\n",
       "      <td>pt</td>\n",
       "      <td>brazil</td>\n",
       "      <td>-47.333800</td>\n",
       "      <td>-22.739900</td>\n",
       "      <td>BR</td>\n",
       "      <td>americana</td>\n",
       "      <td>NaN</td>\n",
       "    </tr>\n",
       "    <tr>\n",
       "      <th>591</th>\n",
       "      <td>591</td>\n",
       "      <td>marinacrystals</td>\n",
       "      <td>2020-06-30 23:19:22</td>\n",
       "      <td>cem dias de quarentena. \\n○\\nquem tem um livro...</td>\n",
       "      <td>pt</td>\n",
       "      <td>brazil</td>\n",
       "      <td>-46.633300</td>\n",
       "      <td>-23.550000</td>\n",
       "      <td>BR</td>\n",
       "      <td>sao paulo</td>\n",
       "      <td>NaN</td>\n",
       "    </tr>\n",
       "  </tbody>\n",
       "</table>\n",
       "<p>592 rows × 11 columns</p>\n",
       "</div>"
      ],
      "text/plain": [
       "     posicao          apelido                 data  \\\n",
       "0          0     renataluanut  2020-01-20 13:15:57   \n",
       "1          1             ac_q  2020-01-21 23:36:11   \n",
       "2          2  fabiorochapoeta  2020-01-29 22:28:29   \n",
       "3          3      aleksandro_  2020-01-31 20:44:53   \n",
       "4          4  tracosdenanquim  2020-02-01 23:38:37   \n",
       "..       ...              ...                  ...   \n",
       "587      587      uberfashion  2020-06-30 19:16:58   \n",
       "588      588     pimenta_cute  2020-06-30 21:07:52   \n",
       "589      589  armandopugliesi  2020-06-30 22:17:48   \n",
       "590      590    aposentadosel  2020-06-30 22:40:51   \n",
       "591      591   marinacrystals  2020-06-30 23:19:22   \n",
       "\n",
       "                                                 texto idioma    pais  \\\n",
       "0    por que será que focar no resultado final pode...     pt  brazil   \n",
       "1    coronavirus e vc sem plano de saúde? proteção!...     pt  brazil   \n",
       "2    como pode ser mais divertido?😂😂😂😂\\n.\\n.\\n.\\n.\\...     pt  brazil   \n",
       "3    quem vence ??? \\n#coronavirus #kkkkkk em diade...     pt  brazil   \n",
       "4    o presidente pode tbm editar uma mp e regulame...     pt  brazil   \n",
       "..                                                 ...    ...     ...   \n",
       "587  2020 seu lindo? ⁣\\n⁣\\napenas marque seu amigo,...     pt  brazil   \n",
       "588  o que vc está fazendo na quarentena?!\\n.\\n.\\n....     pt  brazil   \n",
       "589  e aí? tá se alimentando saudável na quarentena...     pt  brazil   \n",
       "590  e no café da tarde tivemos....\\n\\nbolinho de c...     pt  brazil   \n",
       "591  cem dias de quarentena. \\n○\\nquem tem um livro...     pt  brazil   \n",
       "\n",
       "      latitude  longitude sigla           lugar  resumo  \n",
       "0   -38.476700 -12.974700    BR        salvador     NaN  \n",
       "1   -34.925700  -8.060500    BR          recife     NaN  \n",
       "2   -43.468900 -23.017800    BR  rio de janeiro     NaN  \n",
       "3   -46.610600 -23.686100    BR         diadema     NaN  \n",
       "4   -47.955884 -15.823753    BR        brasília     NaN  \n",
       "..         ...        ...   ...             ...     ...  \n",
       "587 -42.533300 -22.266700    BR   nova friburgo     NaN  \n",
       "588 -49.270700 -16.686900    BR         goiânia     NaN  \n",
       "589 -34.903626  -8.127848    BR          recife     NaN  \n",
       "590 -47.333800 -22.739900    BR       americana     NaN  \n",
       "591 -46.633300 -23.550000    BR       sao paulo     NaN  \n",
       "\n",
       "[592 rows x 11 columns]"
      ]
     },
     "execution_count": 22,
     "metadata": {},
     "output_type": "execute_result"
    }
   ],
   "source": [
    "BD"
   ]
  },
  {
   "cell_type": "code",
   "execution_count": 5,
   "metadata": {},
   "outputs": [
    {
     "data": {
      "text/plain": [
       "0"
      ]
     },
     "execution_count": 5,
     "metadata": {},
     "output_type": "execute_result"
    }
   ],
   "source": [
    "BD.duplicated().sum() #verificando linhas iguais"
   ]
  },
  {
   "cell_type": "code",
   "execution_count": 23,
   "metadata": {},
   "outputs": [],
   "source": [
    "new = BD[\"data\"].str.split(\" \", n = 1, expand = True)"
   ]
  },
  {
   "cell_type": "code",
   "execution_count": 29,
   "metadata": {},
   "outputs": [],
   "source": [
    "BD[\"data\"]= new[0].str.replace('-','/') "
   ]
  },
  {
   "cell_type": "code",
   "execution_count": 31,
   "metadata": {},
   "outputs": [],
   "source": [
    "BD[\"hora\"]= new[1] "
   ]
  },
  {
   "cell_type": "code",
   "execution_count": 32,
   "metadata": {
    "scrolled": true
   },
   "outputs": [
    {
     "data": {
      "text/html": [
       "<div>\n",
       "<style scoped>\n",
       "    .dataframe tbody tr th:only-of-type {\n",
       "        vertical-align: middle;\n",
       "    }\n",
       "\n",
       "    .dataframe tbody tr th {\n",
       "        vertical-align: top;\n",
       "    }\n",
       "\n",
       "    .dataframe thead th {\n",
       "        text-align: right;\n",
       "    }\n",
       "</style>\n",
       "<table border=\"1\" class=\"dataframe\">\n",
       "  <thead>\n",
       "    <tr style=\"text-align: right;\">\n",
       "      <th></th>\n",
       "      <th>posicao</th>\n",
       "      <th>apelido</th>\n",
       "      <th>data</th>\n",
       "      <th>texto</th>\n",
       "      <th>idioma</th>\n",
       "      <th>pais</th>\n",
       "      <th>latitude</th>\n",
       "      <th>longitude</th>\n",
       "      <th>sigla</th>\n",
       "      <th>lugar</th>\n",
       "      <th>resumo</th>\n",
       "      <th>hora</th>\n",
       "    </tr>\n",
       "  </thead>\n",
       "  <tbody>\n",
       "    <tr>\n",
       "      <th>0</th>\n",
       "      <td>0</td>\n",
       "      <td>renataluanut</td>\n",
       "      <td>2020/01/20</td>\n",
       "      <td>por que será que focar no resultado final pode...</td>\n",
       "      <td>pt</td>\n",
       "      <td>brazil</td>\n",
       "      <td>-38.476700</td>\n",
       "      <td>-12.974700</td>\n",
       "      <td>BR</td>\n",
       "      <td>salvador</td>\n",
       "      <td>NaN</td>\n",
       "      <td>13:15:57</td>\n",
       "    </tr>\n",
       "    <tr>\n",
       "      <th>1</th>\n",
       "      <td>1</td>\n",
       "      <td>ac_q</td>\n",
       "      <td>2020/01/21</td>\n",
       "      <td>coronavirus e vc sem plano de saúde? proteção!...</td>\n",
       "      <td>pt</td>\n",
       "      <td>brazil</td>\n",
       "      <td>-34.925700</td>\n",
       "      <td>-8.060500</td>\n",
       "      <td>BR</td>\n",
       "      <td>recife</td>\n",
       "      <td>NaN</td>\n",
       "      <td>23:36:11</td>\n",
       "    </tr>\n",
       "    <tr>\n",
       "      <th>2</th>\n",
       "      <td>2</td>\n",
       "      <td>fabiorochapoeta</td>\n",
       "      <td>2020/01/29</td>\n",
       "      <td>como pode ser mais divertido?😂😂😂😂\\n.\\n.\\n.\\n.\\...</td>\n",
       "      <td>pt</td>\n",
       "      <td>brazil</td>\n",
       "      <td>-43.468900</td>\n",
       "      <td>-23.017800</td>\n",
       "      <td>BR</td>\n",
       "      <td>rio de janeiro</td>\n",
       "      <td>NaN</td>\n",
       "      <td>22:28:29</td>\n",
       "    </tr>\n",
       "    <tr>\n",
       "      <th>3</th>\n",
       "      <td>3</td>\n",
       "      <td>aleksandro_</td>\n",
       "      <td>2020/01/31</td>\n",
       "      <td>quem vence ??? \\n#coronavirus #kkkkkk em diade...</td>\n",
       "      <td>pt</td>\n",
       "      <td>brazil</td>\n",
       "      <td>-46.610600</td>\n",
       "      <td>-23.686100</td>\n",
       "      <td>BR</td>\n",
       "      <td>diadema</td>\n",
       "      <td>NaN</td>\n",
       "      <td>20:44:53</td>\n",
       "    </tr>\n",
       "    <tr>\n",
       "      <th>4</th>\n",
       "      <td>4</td>\n",
       "      <td>tracosdenanquim</td>\n",
       "      <td>2020/02/01</td>\n",
       "      <td>o presidente pode tbm editar uma mp e regulame...</td>\n",
       "      <td>pt</td>\n",
       "      <td>brazil</td>\n",
       "      <td>-47.955884</td>\n",
       "      <td>-15.823753</td>\n",
       "      <td>BR</td>\n",
       "      <td>brasília</td>\n",
       "      <td>NaN</td>\n",
       "      <td>23:38:37</td>\n",
       "    </tr>\n",
       "  </tbody>\n",
       "</table>\n",
       "</div>"
      ],
      "text/plain": [
       "   posicao          apelido        data  \\\n",
       "0        0     renataluanut  2020/01/20   \n",
       "1        1             ac_q  2020/01/21   \n",
       "2        2  fabiorochapoeta  2020/01/29   \n",
       "3        3      aleksandro_  2020/01/31   \n",
       "4        4  tracosdenanquim  2020/02/01   \n",
       "\n",
       "                                               texto idioma    pais  \\\n",
       "0  por que será que focar no resultado final pode...     pt  brazil   \n",
       "1  coronavirus e vc sem plano de saúde? proteção!...     pt  brazil   \n",
       "2  como pode ser mais divertido?😂😂😂😂\\n.\\n.\\n.\\n.\\...     pt  brazil   \n",
       "3  quem vence ??? \\n#coronavirus #kkkkkk em diade...     pt  brazil   \n",
       "4  o presidente pode tbm editar uma mp e regulame...     pt  brazil   \n",
       "\n",
       "    latitude  longitude sigla           lugar  resumo      hora  \n",
       "0 -38.476700 -12.974700    BR        salvador     NaN  13:15:57  \n",
       "1 -34.925700  -8.060500    BR          recife     NaN  23:36:11  \n",
       "2 -43.468900 -23.017800    BR  rio de janeiro     NaN  22:28:29  \n",
       "3 -46.610600 -23.686100    BR         diadema     NaN  20:44:53  \n",
       "4 -47.955884 -15.823753    BR        brasília     NaN  23:38:37  "
      ]
     },
     "execution_count": 32,
     "metadata": {},
     "output_type": "execute_result"
    }
   ],
   "source": [
    "BD.head()"
   ]
  },
  {
   "cell_type": "code",
   "execution_count": 65,
   "metadata": {
    "scrolled": true
   },
   "outputs": [],
   "source": [
    "G=BD['data'].value_counts().sort_index()"
   ]
  },
  {
   "cell_type": "code",
   "execution_count": 66,
   "metadata": {},
   "outputs": [
    {
     "data": {
      "text/plain": [
       "2020/01/20     1\n",
       "2020/01/21     1\n",
       "2020/01/29     1\n",
       "2020/01/31     1\n",
       "2020/02/01     1\n",
       "              ..\n",
       "2020/06/26     5\n",
       "2020/06/27     2\n",
       "2020/06/28     3\n",
       "2020/06/29     1\n",
       "2020/06/30    10\n",
       "Name: data, Length: 104, dtype: int64"
      ]
     },
     "execution_count": 66,
     "metadata": {},
     "output_type": "execute_result"
    }
   ],
   "source": [
    "G"
   ]
  },
  {
   "cell_type": "code",
   "execution_count": 68,
   "metadata": {},
   "outputs": [
    {
     "data": {
      "text/plain": [
       "[<matplotlib.lines.Line2D at 0x158d1148>]"
      ]
     },
     "execution_count": 68,
     "metadata": {},
     "output_type": "execute_result"
    },
    {
     "data": {
      "image/png": "[encoded data removed]",
      "text/plain": [
       "<Figure size 432x288 with 1 Axes>"
      ]
     },
     "metadata": {
      "needs_background": "light"
     },
     "output_type": "display_data"
    }
   ],
   "source": [
    "plt.plot(G)"
   ]
  },
  {
   "cell_type": "code",
   "execution_count": 14,
   "metadata": {},
   "outputs": [
    {
     "data": {
      "text/html": [
       "<div>\n",
       "<style scoped>\n",
       "    .dataframe tbody tr th:only-of-type {\n",
       "        vertical-align: middle;\n",
       "    }\n",
       "\n",
       "    .dataframe tbody tr th {\n",
       "        vertical-align: top;\n",
       "    }\n",
       "\n",
       "    .dataframe thead th {\n",
       "        text-align: right;\n",
       "    }\n",
       "</style>\n",
       "<table border=\"1\" class=\"dataframe\">\n",
       "  <thead>\n",
       "    <tr style=\"text-align: right;\">\n",
       "      <th></th>\n",
       "      <th>posicao</th>\n",
       "      <th>apelido</th>\n",
       "      <th>data</th>\n",
       "      <th>texto</th>\n",
       "      <th>idioma</th>\n",
       "      <th>pais</th>\n",
       "      <th>latitude</th>\n",
       "      <th>longitude</th>\n",
       "      <th>sigla</th>\n",
       "      <th>lugar</th>\n",
       "      <th>resumo</th>\n",
       "      <th>hora</th>\n",
       "    </tr>\n",
       "  </thead>\n",
       "  <tbody>\n",
       "    <tr>\n",
       "      <th>0</th>\n",
       "      <td>0</td>\n",
       "      <td>ronaldo2910</td>\n",
       "      <td>2020-05-22</td>\n",
       "      <td>\"... cômico ou trágico?... a direita toma clor...</td>\n",
       "      <td>pt</td>\n",
       "      <td>brazil</td>\n",
       "      <td>-48.019070</td>\n",
       "      <td>-16.022673</td>\n",
       "      <td>BR</td>\n",
       "      <td>brasília</td>\n",
       "      <td>\"...cômicooutrágico?...ad</td>\n",
       "      <td>02:09:03</td>\n",
       "    </tr>\n",
       "    <tr>\n",
       "      <th>1</th>\n",
       "      <td>1</td>\n",
       "      <td>r2_macedo</td>\n",
       "      <td>2020-03-26</td>\n",
       "      <td>\"então você é o coronavírus?\"\\r\\n.\\r\\n.\\r\\n.\\r...</td>\n",
       "      <td>pt</td>\n",
       "      <td>brazil</td>\n",
       "      <td>-43.179898</td>\n",
       "      <td>-22.895216</td>\n",
       "      <td>BR</td>\n",
       "      <td>rio de janeiro</td>\n",
       "      <td>\"entãovocêéocoronavírus?\"</td>\n",
       "      <td>22:32:01</td>\n",
       "    </tr>\n",
       "    <tr>\n",
       "      <th>2</th>\n",
       "      <td>2</td>\n",
       "      <td>clauberaraujo</td>\n",
       "      <td>2020-05-25</td>\n",
       "      <td>\"estamos no mesmo barco!\" \\r\\n\\r\\nagente quem ...</td>\n",
       "      <td>pt</td>\n",
       "      <td>brazil</td>\n",
       "      <td>-43.306230</td>\n",
       "      <td>-22.899860</td>\n",
       "      <td>BR</td>\n",
       "      <td>rio de janeiro</td>\n",
       "      <td>\"estamosnomesmobarco!\"age</td>\n",
       "      <td>01:04:52</td>\n",
       "    </tr>\n",
       "    <tr>\n",
       "      <th>3</th>\n",
       "      <td>3</td>\n",
       "      <td>2018tatinha</td>\n",
       "      <td>2020-06-29</td>\n",
       "      <td>\"fondue mix de frutas da chiquinhosorvetes? do...</td>\n",
       "      <td>pt</td>\n",
       "      <td>brazil</td>\n",
       "      <td>-38.476700</td>\n",
       "      <td>-12.974700</td>\n",
       "      <td>BR</td>\n",
       "      <td>salvador</td>\n",
       "      <td>\"fonduemixdefrutasdachiqu</td>\n",
       "      <td>21:03:18</td>\n",
       "    </tr>\n",
       "    <tr>\n",
       "      <th>4</th>\n",
       "      <td>4</td>\n",
       "      <td>profandreylemos</td>\n",
       "      <td>2020-05-31</td>\n",
       "      <td>\"o povo que não conhece sua história, está con...</td>\n",
       "      <td>pt</td>\n",
       "      <td>brazil</td>\n",
       "      <td>-47.956205</td>\n",
       "      <td>-15.856996</td>\n",
       "      <td>BR</td>\n",
       "      <td>brasília</td>\n",
       "      <td>\"opovoquenãoconhecesuahis</td>\n",
       "      <td>21:20:47</td>\n",
       "    </tr>\n",
       "    <tr>\n",
       "      <th>...</th>\n",
       "      <td>...</td>\n",
       "      <td>...</td>\n",
       "      <td>...</td>\n",
       "      <td>...</td>\n",
       "      <td>...</td>\n",
       "      <td>...</td>\n",
       "      <td>...</td>\n",
       "      <td>...</td>\n",
       "      <td>...</td>\n",
       "      <td>...</td>\n",
       "      <td>...</td>\n",
       "      <td>...</td>\n",
       "    </tr>\n",
       "    <tr>\n",
       "      <th>556</th>\n",
       "      <td>556</td>\n",
       "      <td>priscillafreire</td>\n",
       "      <td>2020-04-05</td>\n",
       "      <td>💁‍♀️🤩 #lookdodia... aliás, do fim de semana ha...</td>\n",
       "      <td>pt</td>\n",
       "      <td>brazil</td>\n",
       "      <td>-35.209500</td>\n",
       "      <td>-5.800800</td>\n",
       "      <td>BR</td>\n",
       "      <td>natal</td>\n",
       "      <td>💁‍♀️🤩#lookdodia...aliás,d</td>\n",
       "      <td>15:56:52</td>\n",
       "    </tr>\n",
       "    <tr>\n",
       "      <th>557</th>\n",
       "      <td>557</td>\n",
       "      <td>paulo_do_valle</td>\n",
       "      <td>2020-05-19</td>\n",
       "      <td>🔯🔯🔯 onde queremos chegar? choremos a nossa des...</td>\n",
       "      <td>pt</td>\n",
       "      <td>brazil</td>\n",
       "      <td>-46.633300</td>\n",
       "      <td>-23.550000</td>\n",
       "      <td>BR</td>\n",
       "      <td>sao paulo</td>\n",
       "      <td>🔯🔯🔯ondequeremoschegar?cho</td>\n",
       "      <td>20:07:22</td>\n",
       "    </tr>\n",
       "    <tr>\n",
       "      <th>558</th>\n",
       "      <td>558</td>\n",
       "      <td>regiotec</td>\n",
       "      <td>2020-05-30</td>\n",
       "      <td>🔴 covid19\\r\\n\\r\\no sistema empregador web enlo...</td>\n",
       "      <td>pt</td>\n",
       "      <td>brazil</td>\n",
       "      <td>-47.939474</td>\n",
       "      <td>-19.760573</td>\n",
       "      <td>BR</td>\n",
       "      <td>uberaba</td>\n",
       "      <td>🔴covid19osistemaempregado</td>\n",
       "      <td>00:06:26</td>\n",
       "    </tr>\n",
       "    <tr>\n",
       "      <th>559</th>\n",
       "      <td>559</td>\n",
       "      <td>portaldeolimpia</td>\n",
       "      <td>2020-03-23</td>\n",
       "      <td>😷 ministério da saúde aprova medicina à distân...</td>\n",
       "      <td>pt</td>\n",
       "      <td>brazil</td>\n",
       "      <td>-48.911190</td>\n",
       "      <td>-20.737970</td>\n",
       "      <td>BR</td>\n",
       "      <td>olímpia</td>\n",
       "      <td>😷ministériodasaúdeaprovam</td>\n",
       "      <td>19:53:07</td>\n",
       "    </tr>\n",
       "    <tr>\n",
       "      <th>560</th>\n",
       "      <td>560</td>\n",
       "      <td>carreira_ci</td>\n",
       "      <td>2020-05-20</td>\n",
       "      <td>🤔 você está prestando atenção às oportunidades...</td>\n",
       "      <td>pt</td>\n",
       "      <td>australia</td>\n",
       "      <td>151.628566</td>\n",
       "      <td>-33.157229</td>\n",
       "      <td>AU</td>\n",
       "      <td>catherine hill bay</td>\n",
       "      <td>🤔vocêestáprestandoatenção</td>\n",
       "      <td>15:23:17</td>\n",
       "    </tr>\n",
       "  </tbody>\n",
       "</table>\n",
       "<p>559 rows × 12 columns</p>\n",
       "</div>"
      ],
      "text/plain": [
       "     posicao          apelido        data  \\\n",
       "0          0      ronaldo2910  2020-05-22   \n",
       "1          1        r2_macedo  2020-03-26   \n",
       "2          2    clauberaraujo  2020-05-25   \n",
       "3          3      2018tatinha  2020-06-29   \n",
       "4          4  profandreylemos  2020-05-31   \n",
       "..       ...              ...         ...   \n",
       "556      556  priscillafreire  2020-04-05   \n",
       "557      557   paulo_do_valle  2020-05-19   \n",
       "558      558         regiotec  2020-05-30   \n",
       "559      559  portaldeolimpia  2020-03-23   \n",
       "560      560      carreira_ci  2020-05-20   \n",
       "\n",
       "                                                 texto idioma       pais  \\\n",
       "0    \"... cômico ou trágico?... a direita toma clor...     pt     brazil   \n",
       "1    \"então você é o coronavírus?\"\\r\\n.\\r\\n.\\r\\n.\\r...     pt     brazil   \n",
       "2    \"estamos no mesmo barco!\" \\r\\n\\r\\nagente quem ...     pt     brazil   \n",
       "3    \"fondue mix de frutas da chiquinhosorvetes? do...     pt     brazil   \n",
       "4    \"o povo que não conhece sua história, está con...     pt     brazil   \n",
       "..                                                 ...    ...        ...   \n",
       "556  💁‍♀️🤩 #lookdodia... aliás, do fim de semana ha...     pt     brazil   \n",
       "557  🔯🔯🔯 onde queremos chegar? choremos a nossa des...     pt     brazil   \n",
       "558  🔴 covid19\\r\\n\\r\\no sistema empregador web enlo...     pt     brazil   \n",
       "559  😷 ministério da saúde aprova medicina à distân...     pt     brazil   \n",
       "560  🤔 você está prestando atenção às oportunidades...     pt  australia   \n",
       "\n",
       "       latitude  longitude sigla               lugar  \\\n",
       "0    -48.019070 -16.022673    BR            brasília   \n",
       "1    -43.179898 -22.895216    BR      rio de janeiro   \n",
       "2    -43.306230 -22.899860    BR      rio de janeiro   \n",
       "3    -38.476700 -12.974700    BR            salvador   \n",
       "4    -47.956205 -15.856996    BR            brasília   \n",
       "..          ...        ...   ...                 ...   \n",
       "556  -35.209500  -5.800800    BR               natal   \n",
       "557  -46.633300 -23.550000    BR           sao paulo   \n",
       "558  -47.939474 -19.760573    BR             uberaba   \n",
       "559  -48.911190 -20.737970    BR             olímpia   \n",
       "560  151.628566 -33.157229    AU  catherine hill bay   \n",
       "\n",
       "                        resumo      hora  \n",
       "0    \"...cômicooutrágico?...ad  02:09:03  \n",
       "1    \"entãovocêéocoronavírus?\"  22:32:01  \n",
       "2    \"estamosnomesmobarco!\"age  01:04:52  \n",
       "3    \"fonduemixdefrutasdachiqu  21:03:18  \n",
       "4    \"opovoquenãoconhecesuahis  21:20:47  \n",
       "..                         ...       ...  \n",
       "556  💁‍♀️🤩#lookdodia...aliás,d  15:56:52  \n",
       "557  🔯🔯🔯ondequeremoschegar?cho  20:07:22  \n",
       "558  🔴covid19osistemaempregado  00:06:26  \n",
       "559  😷ministériodasaúdeaprovam  19:53:07  \n",
       "560  🤔vocêestáprestandoatenção  15:23:17  \n",
       "\n",
       "[559 rows x 12 columns]"
      ]
     },
     "execution_count": 14,
     "metadata": {},
     "output_type": "execute_result"
    }
   ],
   "source": [
    "banco=BD.loc[BD['idioma']=='pt'] #do banco completo, pegando só o que está em PT\n",
    "banco"
   ]
  },
  {
   "cell_type": "code",
   "execution_count": 21,
   "metadata": {},
   "outputs": [
    {
     "data": {
      "text/html": [
       "<div>\n",
       "<style scoped>\n",
       "    .dataframe tbody tr th:only-of-type {\n",
       "        vertical-align: middle;\n",
       "    }\n",
       "\n",
       "    .dataframe tbody tr th {\n",
       "        vertical-align: top;\n",
       "    }\n",
       "\n",
       "    .dataframe thead th {\n",
       "        text-align: right;\n",
       "    }\n",
       "</style>\n",
       "<table border=\"1\" class=\"dataframe\">\n",
       "  <thead>\n",
       "    <tr style=\"text-align: right;\">\n",
       "      <th></th>\n",
       "      <th>apelido</th>\n",
       "    </tr>\n",
       "    <tr>\n",
       "      <th>pais</th>\n",
       "      <th></th>\n",
       "    </tr>\n",
       "  </thead>\n",
       "  <tbody>\n",
       "    <tr>\n",
       "      <th>brazil</th>\n",
       "      <td>518</td>\n",
       "    </tr>\n",
       "    <tr>\n",
       "      <th>portugal</th>\n",
       "      <td>15</td>\n",
       "    </tr>\n",
       "    <tr>\n",
       "      <th>united states</th>\n",
       "      <td>6</td>\n",
       "    </tr>\n",
       "    <tr>\n",
       "      <th>spain</th>\n",
       "      <td>3</td>\n",
       "    </tr>\n",
       "    <tr>\n",
       "      <th>france</th>\n",
       "      <td>3</td>\n",
       "    </tr>\n",
       "    <tr>\n",
       "      <th>united kingdom</th>\n",
       "      <td>2</td>\n",
       "    </tr>\n",
       "    <tr>\n",
       "      <th>italy</th>\n",
       "      <td>2</td>\n",
       "    </tr>\n",
       "    <tr>\n",
       "      <th>people's republic of china</th>\n",
       "      <td>1</td>\n",
       "    </tr>\n",
       "    <tr>\n",
       "      <th>republic of mozambique</th>\n",
       "      <td>1</td>\n",
       "    </tr>\n",
       "    <tr>\n",
       "      <th>peru</th>\n",
       "      <td>1</td>\n",
       "    </tr>\n",
       "    <tr>\n",
       "      <th>argentina</th>\n",
       "      <td>1</td>\n",
       "    </tr>\n",
       "    <tr>\n",
       "      <th>australia</th>\n",
       "      <td>1</td>\n",
       "    </tr>\n",
       "    <tr>\n",
       "      <th>dominican republic</th>\n",
       "      <td>1</td>\n",
       "    </tr>\n",
       "    <tr>\n",
       "      <th>cape verde</th>\n",
       "      <td>1</td>\n",
       "    </tr>\n",
       "    <tr>\n",
       "      <th>canada</th>\n",
       "      <td>1</td>\n",
       "    </tr>\n",
       "    <tr>\n",
       "      <th>austria</th>\n",
       "      <td>1</td>\n",
       "    </tr>\n",
       "    <tr>\n",
       "      <th>guadeloupe</th>\n",
       "      <td>1</td>\n",
       "    </tr>\n",
       "  </tbody>\n",
       "</table>\n",
       "</div>"
      ],
      "text/plain": [
       "                            apelido\n",
       "pais                               \n",
       "brazil                          518\n",
       "portugal                         15\n",
       "united states                     6\n",
       "spain                             3\n",
       "france                            3\n",
       "united kingdom                    2\n",
       "italy                             2\n",
       "people's republic of china        1\n",
       "republic of mozambique            1\n",
       "peru                              1\n",
       "argentina                         1\n",
       "australia                         1\n",
       "dominican republic                1\n",
       "cape verde                        1\n",
       "canada                            1\n",
       "austria                           1\n",
       "guadeloupe                        1"
      ]
     },
     "execution_count": 21,
     "metadata": {},
     "output_type": "execute_result"
    }
   ],
   "source": [
    "banco.filter(items=['apelido','pais']).groupby('pais').count().sort_values(by='apelido',ascending=False) #tentando filtrar e ordenar por quantidade"
   ]
  },
  {
   "cell_type": "code",
   "execution_count": 85,
   "metadata": {},
   "outputs": [
    {
     "data": {
      "text/html": [
       "<div>\n",
       "<style scoped>\n",
       "    .dataframe tbody tr th:only-of-type {\n",
       "        vertical-align: middle;\n",
       "    }\n",
       "\n",
       "    .dataframe tbody tr th {\n",
       "        vertical-align: top;\n",
       "    }\n",
       "\n",
       "    .dataframe thead th {\n",
       "        text-align: right;\n",
       "    }\n",
       "</style>\n",
       "<table border=\"1\" class=\"dataframe\">\n",
       "  <thead>\n",
       "    <tr style=\"text-align: right;\">\n",
       "      <th></th>\n",
       "      <th>posicao</th>\n",
       "      <th>apelido</th>\n",
       "      <th>data</th>\n",
       "      <th>texto</th>\n",
       "      <th>idioma</th>\n",
       "      <th>pais</th>\n",
       "      <th>latitude</th>\n",
       "      <th>longitude</th>\n",
       "      <th>sigla</th>\n",
       "      <th>lugar</th>\n",
       "      <th>resumo</th>\n",
       "      <th>hora</th>\n",
       "    </tr>\n",
       "  </thead>\n",
       "  <tbody>\n",
       "    <tr>\n",
       "      <th>53</th>\n",
       "      <td>53</td>\n",
       "      <td>ocleidson</td>\n",
       "      <td>2020/03/20</td>\n",
       "      <td>sextou com s de sua casa.\\n\\nse movimente, mas...</td>\n",
       "      <td>pt</td>\n",
       "      <td>brazil</td>\n",
       "      <td>-38.476700</td>\n",
       "      <td>-12.974700</td>\n",
       "      <td>BR</td>\n",
       "      <td>salvador</td>\n",
       "      <td>NaN</td>\n",
       "      <td>03:15:21</td>\n",
       "    </tr>\n",
       "    <tr>\n",
       "      <th>60</th>\n",
       "      <td>60</td>\n",
       "      <td>acarolpadovani</td>\n",
       "      <td>2020/03/20</td>\n",
       "      <td>entendeu ou quer que desenhe? desenhado. \\n.\\n...</td>\n",
       "      <td>pt</td>\n",
       "      <td>brazil</td>\n",
       "      <td>-47.220000</td>\n",
       "      <td>-22.858300</td>\n",
       "      <td>BR</td>\n",
       "      <td>hortolândia</td>\n",
       "      <td>NaN</td>\n",
       "      <td>21:03:53</td>\n",
       "    </tr>\n",
       "    <tr>\n",
       "      <th>100</th>\n",
       "      <td>100</td>\n",
       "      <td>rpamplonafilho</td>\n",
       "      <td>2020/03/23</td>\n",
       "      <td>você sabe qual é o impacto da pandemia do novo...</td>\n",
       "      <td>pt</td>\n",
       "      <td>brazil</td>\n",
       "      <td>-38.476700</td>\n",
       "      <td>-12.974700</td>\n",
       "      <td>BR</td>\n",
       "      <td>salvador</td>\n",
       "      <td>NaN</td>\n",
       "      <td>16:08:44</td>\n",
       "    </tr>\n",
       "    <tr>\n",
       "      <th>124</th>\n",
       "      <td>124</td>\n",
       "      <td>redetvgente</td>\n",
       "      <td>2020/03/26</td>\n",
       "      <td>é, temos que concordar que a palavrinha mágica...</td>\n",
       "      <td>pt</td>\n",
       "      <td>brazil</td>\n",
       "      <td>-47.054165</td>\n",
       "      <td>-23.168576</td>\n",
       "      <td>BR</td>\n",
       "      <td>itupeva</td>\n",
       "      <td>NaN</td>\n",
       "      <td>22:33:41</td>\n",
       "    </tr>\n",
       "    <tr>\n",
       "      <th>170</th>\n",
       "      <td>170</td>\n",
       "      <td>lucaspsantosadv</td>\n",
       "      <td>2020/04/02</td>\n",
       "      <td>você sabia? \\n\\n#direitodotrabalho \\n#justiçad...</td>\n",
       "      <td>pt</td>\n",
       "      <td>brazil</td>\n",
       "      <td>-50.443350</td>\n",
       "      <td>-21.199280</td>\n",
       "      <td>BR</td>\n",
       "      <td>araçatuba</td>\n",
       "      <td>NaN</td>\n",
       "      <td>19:44:34</td>\n",
       "    </tr>\n",
       "    <tr>\n",
       "      <th>171</th>\n",
       "      <td>171</td>\n",
       "      <td>lucaspsantosadv</td>\n",
       "      <td>2020/04/02</td>\n",
       "      <td>você sabia? \\n\\n#direitodotrabalho \\n#justiçad...</td>\n",
       "      <td>pt</td>\n",
       "      <td>brazil</td>\n",
       "      <td>-50.443350</td>\n",
       "      <td>-21.199280</td>\n",
       "      <td>BR</td>\n",
       "      <td>araçatuba</td>\n",
       "      <td>NaN</td>\n",
       "      <td>19:51:47</td>\n",
       "    </tr>\n",
       "    <tr>\n",
       "      <th>172</th>\n",
       "      <td>172</td>\n",
       "      <td>lucaspsantosadv</td>\n",
       "      <td>2020/04/02</td>\n",
       "      <td>você sabia? \\n\\n#direitodotrabalho \\n#justiçad...</td>\n",
       "      <td>pt</td>\n",
       "      <td>brazil</td>\n",
       "      <td>-50.443350</td>\n",
       "      <td>-21.199280</td>\n",
       "      <td>BR</td>\n",
       "      <td>araçatuba</td>\n",
       "      <td>NaN</td>\n",
       "      <td>19:54:24</td>\n",
       "    </tr>\n",
       "    <tr>\n",
       "      <th>173</th>\n",
       "      <td>173</td>\n",
       "      <td>lucaspsantosadv</td>\n",
       "      <td>2020/04/02</td>\n",
       "      <td>você sabia? \\n\\n#direitodotrabalho \\n#justiçad...</td>\n",
       "      <td>pt</td>\n",
       "      <td>brazil</td>\n",
       "      <td>-50.443350</td>\n",
       "      <td>-21.199280</td>\n",
       "      <td>BR</td>\n",
       "      <td>araçatuba</td>\n",
       "      <td>NaN</td>\n",
       "      <td>19:56:15</td>\n",
       "    </tr>\n",
       "    <tr>\n",
       "      <th>174</th>\n",
       "      <td>174</td>\n",
       "      <td>lucaspsantosadv</td>\n",
       "      <td>2020/04/02</td>\n",
       "      <td>você sabia? \\n\\n#direitodotrabalho \\n#justiçad...</td>\n",
       "      <td>pt</td>\n",
       "      <td>brazil</td>\n",
       "      <td>-50.443350</td>\n",
       "      <td>-21.199280</td>\n",
       "      <td>BR</td>\n",
       "      <td>araçatuba</td>\n",
       "      <td>NaN</td>\n",
       "      <td>19:57:43</td>\n",
       "    </tr>\n",
       "    <tr>\n",
       "      <th>175</th>\n",
       "      <td>175</td>\n",
       "      <td>lucaspsantosadv</td>\n",
       "      <td>2020/04/02</td>\n",
       "      <td>você sabia? \\n\\n#direitodotrabalho \\n#justiçad...</td>\n",
       "      <td>pt</td>\n",
       "      <td>brazil</td>\n",
       "      <td>-50.443350</td>\n",
       "      <td>-21.199280</td>\n",
       "      <td>BR</td>\n",
       "      <td>araçatuba</td>\n",
       "      <td>NaN</td>\n",
       "      <td>20:00:09</td>\n",
       "    </tr>\n",
       "    <tr>\n",
       "      <th>176</th>\n",
       "      <td>176</td>\n",
       "      <td>lucaspsantosadv</td>\n",
       "      <td>2020/04/02</td>\n",
       "      <td>você sabia? \\n\\n#direitodotrabalho \\n#justiçad...</td>\n",
       "      <td>pt</td>\n",
       "      <td>brazil</td>\n",
       "      <td>-50.443350</td>\n",
       "      <td>-21.199280</td>\n",
       "      <td>BR</td>\n",
       "      <td>araçatuba</td>\n",
       "      <td>NaN</td>\n",
       "      <td>20:06:35</td>\n",
       "    </tr>\n",
       "    <tr>\n",
       "      <th>227</th>\n",
       "      <td>227</td>\n",
       "      <td>manicurebr</td>\n",
       "      <td>2020/04/05</td>\n",
       "      <td>como estão seus vídeos?\\nhome office tem reuni...</td>\n",
       "      <td>pt</td>\n",
       "      <td>brazil</td>\n",
       "      <td>-46.603084</td>\n",
       "      <td>-23.479465</td>\n",
       "      <td>BR</td>\n",
       "      <td>sao paulo</td>\n",
       "      <td>NaN</td>\n",
       "      <td>17:41:47</td>\n",
       "    </tr>\n",
       "    <tr>\n",
       "      <th>272</th>\n",
       "      <td>272</td>\n",
       "      <td>jaquelineseixas</td>\n",
       "      <td>2020/04/08</td>\n",
       "      <td>como está seu trabalho nessa quarentena?\\n\\nne...</td>\n",
       "      <td>pt</td>\n",
       "      <td>brazil</td>\n",
       "      <td>-46.633300</td>\n",
       "      <td>-23.550000</td>\n",
       "      <td>BR</td>\n",
       "      <td>sao paulo</td>\n",
       "      <td>NaN</td>\n",
       "      <td>23:38:21</td>\n",
       "    </tr>\n",
       "    <tr>\n",
       "      <th>492</th>\n",
       "      <td>492</td>\n",
       "      <td>regiotec</td>\n",
       "      <td>2020/05/30</td>\n",
       "      <td>🔴 covid19\\n\\no sistema empregador web enlouque...</td>\n",
       "      <td>pt</td>\n",
       "      <td>brazil</td>\n",
       "      <td>-47.939474</td>\n",
       "      <td>-19.760572</td>\n",
       "      <td>BR</td>\n",
       "      <td>uberaba</td>\n",
       "      <td>NaN</td>\n",
       "      <td>00:06:26</td>\n",
       "    </tr>\n",
       "    <tr>\n",
       "      <th>558</th>\n",
       "      <td>558</td>\n",
       "      <td>ohomemdofogo</td>\n",
       "      <td>2020/06/19</td>\n",
       "      <td>sextouuuuuuuuuuuuu ...\\njá já acaba mais um di...</td>\n",
       "      <td>pt</td>\n",
       "      <td>brazil</td>\n",
       "      <td>-46.311370</td>\n",
       "      <td>-23.977990</td>\n",
       "      <td>BR</td>\n",
       "      <td>santos</td>\n",
       "      <td>NaN</td>\n",
       "      <td>15:45:23</td>\n",
       "    </tr>\n",
       "  </tbody>\n",
       "</table>\n",
       "</div>"
      ],
      "text/plain": [
       "     posicao          apelido        data  \\\n",
       "53        53        ocleidson  2020/03/20   \n",
       "60        60   acarolpadovani  2020/03/20   \n",
       "100      100   rpamplonafilho  2020/03/23   \n",
       "124      124      redetvgente  2020/03/26   \n",
       "170      170  lucaspsantosadv  2020/04/02   \n",
       "171      171  lucaspsantosadv  2020/04/02   \n",
       "172      172  lucaspsantosadv  2020/04/02   \n",
       "173      173  lucaspsantosadv  2020/04/02   \n",
       "174      174  lucaspsantosadv  2020/04/02   \n",
       "175      175  lucaspsantosadv  2020/04/02   \n",
       "176      176  lucaspsantosadv  2020/04/02   \n",
       "227      227       manicurebr  2020/04/05   \n",
       "272      272  jaquelineseixas  2020/04/08   \n",
       "492      492         regiotec  2020/05/30   \n",
       "558      558     ohomemdofogo  2020/06/19   \n",
       "\n",
       "                                                 texto idioma    pais  \\\n",
       "53   sextou com s de sua casa.\\n\\nse movimente, mas...     pt  brazil   \n",
       "60   entendeu ou quer que desenhe? desenhado. \\n.\\n...     pt  brazil   \n",
       "100  você sabe qual é o impacto da pandemia do novo...     pt  brazil   \n",
       "124  é, temos que concordar que a palavrinha mágica...     pt  brazil   \n",
       "170  você sabia? \\n\\n#direitodotrabalho \\n#justiçad...     pt  brazil   \n",
       "171  você sabia? \\n\\n#direitodotrabalho \\n#justiçad...     pt  brazil   \n",
       "172  você sabia? \\n\\n#direitodotrabalho \\n#justiçad...     pt  brazil   \n",
       "173  você sabia? \\n\\n#direitodotrabalho \\n#justiçad...     pt  brazil   \n",
       "174  você sabia? \\n\\n#direitodotrabalho \\n#justiçad...     pt  brazil   \n",
       "175  você sabia? \\n\\n#direitodotrabalho \\n#justiçad...     pt  brazil   \n",
       "176  você sabia? \\n\\n#direitodotrabalho \\n#justiçad...     pt  brazil   \n",
       "227  como estão seus vídeos?\\nhome office tem reuni...     pt  brazil   \n",
       "272  como está seu trabalho nessa quarentena?\\n\\nne...     pt  brazil   \n",
       "492  🔴 covid19\\n\\no sistema empregador web enlouque...     pt  brazil   \n",
       "558  sextouuuuuuuuuuuuu ...\\njá já acaba mais um di...     pt  brazil   \n",
       "\n",
       "      latitude  longitude sigla        lugar  resumo      hora  \n",
       "53  -38.476700 -12.974700    BR     salvador     NaN  03:15:21  \n",
       "60  -47.220000 -22.858300    BR  hortolândia     NaN  21:03:53  \n",
       "100 -38.476700 -12.974700    BR     salvador     NaN  16:08:44  \n",
       "124 -47.054165 -23.168576    BR      itupeva     NaN  22:33:41  \n",
       "170 -50.443350 -21.199280    BR    araçatuba     NaN  19:44:34  \n",
       "171 -50.443350 -21.199280    BR    araçatuba     NaN  19:51:47  \n",
       "172 -50.443350 -21.199280    BR    araçatuba     NaN  19:54:24  \n",
       "173 -50.443350 -21.199280    BR    araçatuba     NaN  19:56:15  \n",
       "174 -50.443350 -21.199280    BR    araçatuba     NaN  19:57:43  \n",
       "175 -50.443350 -21.199280    BR    araçatuba     NaN  20:00:09  \n",
       "176 -50.443350 -21.199280    BR    araçatuba     NaN  20:06:35  \n",
       "227 -46.603084 -23.479465    BR    sao paulo     NaN  17:41:47  \n",
       "272 -46.633300 -23.550000    BR    sao paulo     NaN  23:38:21  \n",
       "492 -47.939474 -19.760572    BR      uberaba     NaN  00:06:26  \n",
       "558 -46.311370 -23.977990    BR       santos     NaN  15:45:23  "
      ]
     },
     "execution_count": 85,
     "metadata": {},
     "output_type": "execute_result"
    }
   ],
   "source": [
    "BD[BD['texto'].str.contains('alho')]"
   ]
  },
  {
   "cell_type": "code",
   "execution_count": 90,
   "metadata": {},
   "outputs": [
    {
     "data": {
      "text/plain": [
       "posicao      15\n",
       "apelido      15\n",
       "data         15\n",
       "texto        15\n",
       "idioma       15\n",
       "pais         15\n",
       "latitude     15\n",
       "longitude    15\n",
       "sigla        15\n",
       "lugar        15\n",
       "resumo        0\n",
       "hora         15\n",
       "dtype: int64"
      ]
     },
     "execution_count": 90,
     "metadata": {},
     "output_type": "execute_result"
    }
   ],
   "source": [
    "pergunta1=BD[BD['texto'].str.contains('alho')].count() #contando quantas vezes .\n",
    "pergunta2=BD[BD['texto'].str.contains('Alho')].count()\n",
    "p=pergunta1+pergunta2\n",
    "p\n"
   ]
  },
  {
   "cell_type": "code",
   "execution_count": null,
   "metadata": {},
   "outputs": [],
   "source": []
  },
  {
   "cell_type": "code",
   "execution_count": 87,
   "metadata": {},
   "outputs": [
    {
     "ename": "NameError",
     "evalue": "name 'banco' is not defined",
     "output_type": "error",
     "traceback": [
      "\u001b[1;31m---------------------------------------------------------------------------\u001b[0m",
      "\u001b[1;31mNameError\u001b[0m                                 Traceback (most recent call last)",
      "\u001b[1;32m<ipython-input-87-02b00d073732>\u001b[0m in \u001b[0;36m<module>\u001b[1;34m\u001b[0m\n\u001b[1;32m----> 1\u001b[1;33m \u001b[0mbanco\u001b[0m\u001b[1;33m[\u001b[0m\u001b[1;34m'pais'\u001b[0m\u001b[1;33m]\u001b[0m\u001b[1;33m.\u001b[0m\u001b[0mvalue_counts\u001b[0m\u001b[1;33m(\u001b[0m\u001b[1;33m)\u001b[0m\u001b[1;33m\u001b[0m\u001b[1;33m\u001b[0m\u001b[0m\n\u001b[0m",
      "\u001b[1;31mNameError\u001b[0m: name 'banco' is not defined"
     ]
    }
   ],
   "source": []
  },
  {
   "cell_type": "raw",
   "metadata": {},
   "source": []
  },
  {
   "cell_type": "code",
   "execution_count": 68,
   "metadata": {},
   "outputs": [],
   "source": [
    "\n",
    "\n"
   ]
  },
  {
   "cell_type": "code",
   "execution_count": 69,
   "metadata": {},
   "outputs": [
    {
     "data": {
      "text/html": [
       "<div>\n",
       "<style scoped>\n",
       "    .dataframe tbody tr th:only-of-type {\n",
       "        vertical-align: middle;\n",
       "    }\n",
       "\n",
       "    .dataframe tbody tr th {\n",
       "        vertical-align: top;\n",
       "    }\n",
       "\n",
       "    .dataframe thead th {\n",
       "        text-align: right;\n",
       "    }\n",
       "</style>\n",
       "<table border=\"1\" class=\"dataframe\">\n",
       "  <thead>\n",
       "    <tr style=\"text-align: right;\">\n",
       "      <th></th>\n",
       "      <th>0</th>\n",
       "      <th>1</th>\n",
       "    </tr>\n",
       "  </thead>\n",
       "  <tbody>\n",
       "    <tr>\n",
       "      <th>0</th>\n",
       "      <td>2020-05-22</td>\n",
       "      <td>02:09:03</td>\n",
       "    </tr>\n",
       "    <tr>\n",
       "      <th>1</th>\n",
       "      <td>2020-03-26</td>\n",
       "      <td>22:32:01</td>\n",
       "    </tr>\n",
       "    <tr>\n",
       "      <th>2</th>\n",
       "      <td>2020-05-25</td>\n",
       "      <td>01:04:52</td>\n",
       "    </tr>\n",
       "    <tr>\n",
       "      <th>3</th>\n",
       "      <td>2020-06-29</td>\n",
       "      <td>21:03:18</td>\n",
       "    </tr>\n",
       "    <tr>\n",
       "      <th>4</th>\n",
       "      <td>2020-05-31</td>\n",
       "      <td>21:20:47</td>\n",
       "    </tr>\n",
       "    <tr>\n",
       "      <th>...</th>\n",
       "      <td>...</td>\n",
       "      <td>...</td>\n",
       "    </tr>\n",
       "    <tr>\n",
       "      <th>556</th>\n",
       "      <td>2020-04-05</td>\n",
       "      <td>15:56:52</td>\n",
       "    </tr>\n",
       "    <tr>\n",
       "      <th>557</th>\n",
       "      <td>2020-05-19</td>\n",
       "      <td>20:07:22</td>\n",
       "    </tr>\n",
       "    <tr>\n",
       "      <th>558</th>\n",
       "      <td>2020-05-30</td>\n",
       "      <td>00:06:26</td>\n",
       "    </tr>\n",
       "    <tr>\n",
       "      <th>559</th>\n",
       "      <td>2020-03-23</td>\n",
       "      <td>19:53:07</td>\n",
       "    </tr>\n",
       "    <tr>\n",
       "      <th>560</th>\n",
       "      <td>2020-05-20</td>\n",
       "      <td>15:23:17</td>\n",
       "    </tr>\n",
       "  </tbody>\n",
       "</table>\n",
       "<p>561 rows × 2 columns</p>\n",
       "</div>"
      ],
      "text/plain": [
       "              0         1\n",
       "0    2020-05-22  02:09:03\n",
       "1    2020-03-26  22:32:01\n",
       "2    2020-05-25  01:04:52\n",
       "3    2020-06-29  21:03:18\n",
       "4    2020-05-31  21:20:47\n",
       "..          ...       ...\n",
       "556  2020-04-05  15:56:52\n",
       "557  2020-05-19  20:07:22\n",
       "558  2020-05-30  00:06:26\n",
       "559  2020-03-23  19:53:07\n",
       "560  2020-05-20  15:23:17\n",
       "\n",
       "[561 rows x 2 columns]"
      ]
     },
     "execution_count": 69,
     "metadata": {},
     "output_type": "execute_result"
    }
   ],
   "source": []
  },
  {
   "cell_type": "code",
   "execution_count": 24,
   "metadata": {},
   "outputs": [
    {
     "data": {
      "text/plain": [
       "data          0.886504\n",
       "usuario       0.886504\n",
       "apelido       0.886504\n",
       "texto         0.886504\n",
       "retweet       0.886504\n",
       "seguidores    0.886504\n",
       "idioma        0.886504\n",
       "lugar         0.886504\n",
       "pais          0.886504\n",
       "sigla         0.886504\n",
       "latitude      0.886504\n",
       "longitude     0.886504\n",
       "hashtags      0.886504\n",
       "dtype: float64"
      ]
     },
     "execution_count": 24,
     "metadata": {},
     "output_type": "execute_result"
    }
   ],
   "source": [
    "prop1=(p/len(banco))*100 #proporção da palavra no conjunto\n",
    "prop1"
   ]
  },
  {
   "cell_type": "code",
   "execution_count": 13,
   "metadata": {},
   "outputs": [
    {
     "data": {
      "text/plain": [
       "data          39\n",
       "usuario       39\n",
       "apelido       39\n",
       "texto         39\n",
       "retweet       39\n",
       "seguidores    39\n",
       "idioma        39\n",
       "lugar         39\n",
       "pais          39\n",
       "sigla         39\n",
       "latitude      39\n",
       "longitude     39\n",
       "hashtags      39\n",
       "dtype: int64"
      ]
     },
     "execution_count": 13,
     "metadata": {},
     "output_type": "execute_result"
    }
   ],
   "source": [
    "ministro1=banco[banco['texto'].str.contains('ministro')].count() #contando quantas vezes a palavra 'presidente' é cidada.\n",
    "ministro2=banco[banco['texto'].str.contains('Ministro')].count()\n",
    "M=ministro1+ministro2\n",
    "M #valor total de quantidade de vezes que a palavra ministro é falada no banco com o idioma PT"
   ]
  },
  {
   "cell_type": "code",
   "execution_count": 14,
   "metadata": {},
   "outputs": [
    {
     "data": {
      "text/plain": [
       "0.4549165986235857"
      ]
     },
     "execution_count": 14,
     "metadata": {},
     "output_type": "execute_result"
    }
   ],
   "source": [
    "prop2=(M/len(banco))*100\n",
    "prop2[1]"
   ]
  },
  {
   "cell_type": "code",
   "execution_count": 15,
   "metadata": {},
   "outputs": [
    {
     "data": {
      "text/plain": [
       "data          39\n",
       "usuario       39\n",
       "apelido       39\n",
       "texto         39\n",
       "retweet       39\n",
       "seguidores    39\n",
       "idioma        39\n",
       "lugar         39\n",
       "pais          39\n",
       "sigla         39\n",
       "latitude      39\n",
       "longitude     39\n",
       "hashtags      39\n",
       "dtype: int64"
      ]
     },
     "execution_count": 15,
     "metadata": {},
     "output_type": "execute_result"
    }
   ],
   "source": [
    "ministro1=banco[banco['texto'].str.contains('ministro')].count() #contando quantas vezes a palavra 'presidente' é cidada.\n",
    "ministro2=banco[banco['texto'].str.contains('Ministro')].count()\n",
    "M=ministro1+ministro2\n",
    "M"
   ]
  },
  {
   "cell_type": "code",
   "execution_count": 16,
   "metadata": {},
   "outputs": [
    {
     "data": {
      "text/plain": [
       "array([1.69135658, 0.4549166 ])"
      ]
     },
     "execution_count": 16,
     "metadata": {},
     "output_type": "execute_result"
    }
   ],
   "source": [
    "d = np.array([prop1[1],prop2[1]])\n",
    "d"
   ]
  },
  {
   "cell_type": "code",
   "execution_count": 17,
   "metadata": {},
   "outputs": [
    {
     "name": "stdout",
     "output_type": "stream",
     "text": [
      "Requirement already satisfied: folium in c:\\programdata\\anaconda3\\lib\\site-packages (0.11.0)Note: you may need to restart the kernel to use updated packages.\n",
      "\n",
      "Requirement already satisfied: numpy in c:\\programdata\\anaconda3\\lib\\site-packages (from folium) (1.18.5)\n",
      "Requirement already satisfied: branca>=0.3.0 in c:\\programdata\\anaconda3\\lib\\site-packages (from folium) (0.4.1)\n",
      "Requirement already satisfied: requests in c:\\programdata\\anaconda3\\lib\\site-packages (from folium) (2.24.0)\n",
      "Requirement already satisfied: jinja2>=2.9 in c:\\programdata\\anaconda3\\lib\\site-packages (from folium) (2.11.2)\n",
      "Requirement already satisfied: idna<3,>=2.5 in c:\\programdata\\anaconda3\\lib\\site-packages (from requests->folium) (2.10)\n",
      "Requirement already satisfied: certifi>=2017.4.17 in c:\\programdata\\anaconda3\\lib\\site-packages (from requests->folium) (2020.6.20)\n",
      "Requirement already satisfied: chardet<4,>=3.0.2 in c:\\programdata\\anaconda3\\lib\\site-packages (from requests->folium) (3.0.4)\n",
      "Requirement already satisfied: urllib3!=1.25.0,!=1.25.1,<1.26,>=1.21.1 in c:\\programdata\\anaconda3\\lib\\site-packages (from requests->folium) (1.25.9)\n",
      "Requirement already satisfied: MarkupSafe>=0.23 in c:\\programdata\\anaconda3\\lib\\site-packages (from jinja2>=2.9->folium) (1.1.1)\n"
     ]
    }
   ],
   "source": [
    "pip install folium"
   ]
  },
  {
   "cell_type": "code",
   "execution_count": null,
   "metadata": {},
   "outputs": [],
   "source": []
  },
  {
   "cell_type": "code",
   "execution_count": 69,
   "metadata": {},
   "outputs": [
    {
     "data": {
      "text/html": [
       "<div style=\"width:100%;\"><div style=\"position:relative;width:100%;height:0;padding-bottom:60%;\"><span style=\"color:#565656\">Make this Notebook Trusted to load map: File -> Trust Notebook</span><iframe src=\"about:blank\" style=\"position:absolute;width:100%;height:100%;left:0;top:0;border:none !important;\" data-html=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 onload=\"this.contentDocument.open();this.contentDocument.write(atob(this.getAttribute('data-html')));this.contentDocument.close();\" allowfullscreen webkitallowfullscreen mozallowfullscreen></iframe></div></div>"
      ],
      "text/plain": [
       "<folium.folium.Map at 0x158a2148>"
      ]
     },
     "execution_count": 69,
     "metadata": {},
     "output_type": "execute_result"
    }
   ],
   "source": [
    "mapa=folium.Map(location=[-15.776910,-47.87780],\n",
    "  tiles='Stamen Terrain', zoom_start=10)\n",
    "mapa"
   ]
  },
  {
   "cell_type": "code",
   "execution_count": 70,
   "metadata": {},
   "outputs": [
    {
     "data": {
      "text/plain": [
       "<folium.map.Marker at 0x15d07c88>"
      ]
     },
     "execution_count": 70,
     "metadata": {},
     "output_type": "execute_result"
    }
   ],
   "source": [
    "folium.Marker([-15.776910,-47.87780],tooltip='Clique aqui!', icon=folium.Icon(color='green')).add_to(mapa)#marcador comum"
   ]
  },
  {
   "cell_type": "code",
   "execution_count": 71,
   "metadata": {},
   "outputs": [
    {
     "data": {
      "text/plain": [
       "<folium.vector_layers.CircleMarker at 0x15d16388>"
      ]
     },
     "execution_count": 71,
     "metadata": {},
     "output_type": "execute_result"
    }
   ],
   "source": [
    "folium.CircleMarker(location=[-15.776910,-47.87780],\n",
    "                   radius=10,\n",
    "                   color='#3186cc',\n",
    "                   fill=True,\n",
    "                   fill_color='#3186cc').add_to(mapa)"
   ]
  },
  {
   "cell_type": "code",
   "execution_count": 80,
   "metadata": {},
   "outputs": [],
   "source": [
    "coor=[]\n",
    "for lat,lng in zip (BD.longitude.values[:500],BD.latitude.values[:500]):coor.append([lat,lng])"
   ]
  },
  {
   "cell_type": "code",
   "execution_count": 81,
   "metadata": {},
   "outputs": [],
   "source": [
    "mapa=folium.Map(location=[-15.788497,-47.879873],zoom_start=10,titles='Stamen Torner')"
   ]
  },
  {
   "cell_type": "code",
   "execution_count": 83,
   "metadata": {},
   "outputs": [
    {
     "data": {
      "text/html": [
       "<div style=\"width:100%;\"><div style=\"position:relative;width:100%;height:0;padding-bottom:60%;\"><span style=\"color:#565656\">Make this Notebook Trusted to load map: File -> Trust Notebook</span><iframe src=\"about:blank\" style=\"position:absolute;width:100%;height:100%;left:0;top:0;border:none !important;\" data-html=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 onload=\"this.contentDocument.open();this.contentDocument.write(atob(this.getAttribute('data-html')));this.contentDocument.close();\" allowfullscreen webkitallowfullscreen mozallowfullscreen></iframe></div></div>"
      ],
      "text/plain": [
       "<folium.folium.Map at 0x15d52308>"
      ]
     },
     "execution_count": 83,
     "metadata": {},
     "output_type": "execute_result"
    }
   ],
   "source": [
    "mapa.add_child(plugins.HeatMap(coor))\n",
    "mapa"
   ]
  },
  {
   "cell_type": "code",
   "execution_count": 84,
   "metadata": {},
   "outputs": [
    {
     "data": {
      "text/plain": [
       "500"
      ]
     },
     "execution_count": 84,
     "metadata": {},
     "output_type": "execute_result"
    }
   ],
   "source": [
    "len(coor)"
   ]
  },
  {
   "cell_type": "code",
   "execution_count": 57,
   "metadata": {},
   "outputs": [
    {
     "ename": "SyntaxError",
     "evalue": "invalid syntax (<ipython-input-57-dd68891afe07>, line 5)",
     "output_type": "error",
     "traceback": [
      "\u001b[1;36m  File \u001b[1;32m\"<ipython-input-57-dd68891afe07>\"\u001b[1;36m, line \u001b[1;32m5\u001b[0m\n\u001b[1;33m    print filter(f, palavras)\u001b[0m\n\u001b[1;37m          ^\u001b[0m\n\u001b[1;31mSyntaxError\u001b[0m\u001b[1;31m:\u001b[0m invalid syntax\n"
     ]
    }
   ],
   "source": [
    "palavras = ['teste', 'assistente', 'estou', 'aqui', 'onde', 'ouro', 'adeus']\n",
    "def f(p):\n",
    "    return p.startswith('a') or p.startswith('e')\n",
    "\n",
    "    print filter(f, palavras)\n"
   ]
  },
  {
   "cell_type": "code",
   "execution_count": 63,
   "metadata": {},
   "outputs": [
    {
     "ename": "TypeError",
     "evalue": "expected str, bytes or os.PathLike object, not Series",
     "output_type": "error",
     "traceback": [
      "\u001b[1;31m---------------------------------------------------------------------------\u001b[0m",
      "\u001b[1;31mTypeError\u001b[0m                                 Traceback (most recent call last)",
      "\u001b[1;32m<ipython-input-63-b0d5c3940496>\u001b[0m in \u001b[0;36m<module>\u001b[1;34m\u001b[0m\n\u001b[1;32m----> 1\u001b[1;33m \u001b[0mopen\u001b[0m\u001b[1;33m(\u001b[0m\u001b[0mBD\u001b[0m\u001b[1;33m[\u001b[0m\u001b[1;34m'texto'\u001b[0m\u001b[1;33m]\u001b[0m\u001b[1;33m)\u001b[0m\u001b[1;33m.\u001b[0m\u001b[0mwritelines\u001b[0m\u001b[1;33m(\u001b[0m\u001b[1;33m[\u001b[0m \u001b[0mline\u001b[0m \u001b[1;32mfor\u001b[0m \u001b[0mline\u001b[0m \u001b[1;32min\u001b[0m \u001b[0mBD\u001b[0m\u001b[1;33m[\u001b[0m\u001b[1;34m'texto'\u001b[0m\u001b[1;33m]\u001b[0m\u001b[1;32mif\u001b[0m \u001b[1;34m'oportunidades'\u001b[0m \u001b[1;32min\u001b[0m \u001b[0mline\u001b[0m\u001b[1;33m]\u001b[0m\u001b[1;33m)\u001b[0m\u001b[1;33m\u001b[0m\u001b[1;33m\u001b[0m\u001b[0m\n\u001b[0m\u001b[0;32m      2\u001b[0m \u001b[1;33m\u001b[0m\u001b[0m\n",
      "\u001b[1;31mTypeError\u001b[0m: expected str, bytes or os.PathLike object, not Series"
     ]
    }
   ],
   "source": [
    "open('newfile','w').writelines([ line for line in open('textfile') if 'Apple' in line])\n",
    "\n"
   ]
  },
  {
   "cell_type": "code",
   "execution_count": 61,
   "metadata": {},
   "outputs": [
    {
     "ename": "SyntaxError",
     "evalue": "invalid syntax (<ipython-input-61-866e0d0dc277>, line 4)",
     "output_type": "error",
     "traceback": [
      "\u001b[1;36m  File \u001b[1;32m\"<ipython-input-61-866e0d0dc277>\"\u001b[1;36m, line \u001b[1;32m4\u001b[0m\n\u001b[1;33m    print filter(f, palavras)\u001b[0m\n\u001b[1;37m          ^\u001b[0m\n\u001b[1;31mSyntaxError\u001b[0m\u001b[1;31m:\u001b[0m invalid syntax\n"
     ]
    }
   ],
   "source": [
    "def f(p):\n",
    "    return p.startswith('a') or p.startswith('e')\n",
    "\n",
    "    print filter(f, palavras)\n"
   ]
  },
  {
   "cell_type": "code",
   "execution_count": 59,
   "metadata": {},
   "outputs": [
    {
     "ename": "SyntaxError",
     "evalue": "invalid syntax (<ipython-input-59-593e95622846>, line 1)",
     "output_type": "error",
     "traceback": [
      "\u001b[1;36m  File \u001b[1;32m\"<ipython-input-59-593e95622846>\"\u001b[1;36m, line \u001b[1;32m1\u001b[0m\n\u001b[1;33m    print filter(f, palavras)\u001b[0m\n\u001b[1;37m          ^\u001b[0m\n\u001b[1;31mSyntaxError\u001b[0m\u001b[1;31m:\u001b[0m invalid syntax\n"
     ]
    }
   ],
   "source": [
    " print filter(f, palavras)"
   ]
  },
  {
   "cell_type": "code",
   "execution_count": null,
   "metadata": {},
   "outputs": [],
   "source": []
  }
 ],
 "metadata": {
  "kernelspec": {
   "display_name": "Python 3",
   "language": "python",
   "name": "python3"
  },
  "language_info": {
   "codemirror_mode": {
    "name": "ipython",
    "version": 3
   },
   "file_extension": ".py",
   "mimetype": "text/x-python",
   "name": "python",
   "nbconvert_exporter": "python",
   "pygments_lexer": "ipython3",
   "version": "3.7.6"
  }
 },
 "nbformat": 4,
 "nbformat_minor": 4
}
