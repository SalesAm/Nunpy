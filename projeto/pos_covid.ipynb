{
 "cells": [
  {
   "cell_type": "code",
   "execution_count": 48,
   "metadata": {},
   "outputs": [],
   "source": [
    "import pandas as pd\n",
    "import datetime\n",
    "import numpy as np\n",
    "import matplotlib.pyplot as plt\n",
    "import re\n",
    "import nltk\n",
    "from nltk.stem import PorterStemmer \n",
    "from nltk.tokenize import word_tokenize \n",
    "from nltk.corpus import stopwords\n",
    "import folium \n",
    "import pandas as pd\n",
    "import folium.plugins as plugins\n"
   ]
  },
  {
   "cell_type": "code",
   "execution_count": 2,
   "metadata": {},
   "outputs": [
    {
     "data": {
      "text/plain": [
       "'C:\\\\Users\\\\Fildz'"
      ]
     },
     "execution_count": 2,
     "metadata": {},
     "output_type": "execute_result"
    }
   ],
   "source": [
    "pwd #para saber qual pasta da sua máquina que o JY está usando"
   ]
  },
  {
   "cell_type": "code",
   "execution_count": 49,
   "metadata": {},
   "outputs": [],
   "source": [
    "BD = pd.read_csv('dados-curso-completo.csv')"
   ]
  },
  {
   "cell_type": "code",
   "execution_count": 50,
   "metadata": {
    "scrolled": false
   },
   "outputs": [
    {
     "data": {
      "text/html": [
       "<div>\n",
       "<style scoped>\n",
       "    .dataframe tbody tr th:only-of-type {\n",
       "        vertical-align: middle;\n",
       "    }\n",
       "\n",
       "    .dataframe tbody tr th {\n",
       "        vertical-align: top;\n",
       "    }\n",
       "\n",
       "    .dataframe thead th {\n",
       "        text-align: right;\n",
       "    }\n",
       "</style>\n",
       "<table border=\"1\" class=\"dataframe\">\n",
       "  <thead>\n",
       "    <tr style=\"text-align: right;\">\n",
       "      <th></th>\n",
       "      <th>data</th>\n",
       "      <th>usuario</th>\n",
       "      <th>apelido</th>\n",
       "      <th>texto</th>\n",
       "      <th>retweet</th>\n",
       "      <th>seguidores</th>\n",
       "      <th>idioma</th>\n",
       "      <th>lugar</th>\n",
       "      <th>pais</th>\n",
       "      <th>sigla</th>\n",
       "      <th>latitude</th>\n",
       "      <th>longitude</th>\n",
       "      <th>hashtags</th>\n",
       "    </tr>\n",
       "  </thead>\n",
       "  <tbody>\n",
       "    <tr>\n",
       "      <th>0</th>\n",
       "      <td>2020-03-23 18:51:14</td>\n",
       "      <td>Gaboardi</td>\n",
       "      <td>fraslee</td>\n",
       "      <td>@BolsonaroSP Cade o fundão deputado??? Congres...</td>\n",
       "      <td>0</td>\n",
       "      <td>138</td>\n",
       "      <td>pt</td>\n",
       "      <td>NaN</td>\n",
       "      <td>NaN</td>\n",
       "      <td>NaN</td>\n",
       "      <td>NaN</td>\n",
       "      <td>NaN</td>\n",
       "      <td>[]</td>\n",
       "    </tr>\n",
       "    <tr>\n",
       "      <th>1</th>\n",
       "      <td>2020-03-18 03:18:14</td>\n",
       "      <td>Seu Zé da Farmácia</td>\n",
       "      <td>seuzedafarmacia</td>\n",
       "      <td>Em ação preventiva, o Governo do Estado suspen...</td>\n",
       "      <td>0</td>\n",
       "      <td>56</td>\n",
       "      <td>pt</td>\n",
       "      <td>NaN</td>\n",
       "      <td>NaN</td>\n",
       "      <td>NaN</td>\n",
       "      <td>NaN</td>\n",
       "      <td>NaN</td>\n",
       "      <td>[]</td>\n",
       "    </tr>\n",
       "    <tr>\n",
       "      <th>2</th>\n",
       "      <td>2020-03-29 12:09:27</td>\n",
       "      <td>Marília Oliveira 🇧🇷</td>\n",
       "      <td>Marioliveira_gb</td>\n",
       "      <td>Incrível como os defensores do fim do distanci...</td>\n",
       "      <td>0</td>\n",
       "      <td>5</td>\n",
       "      <td>pt</td>\n",
       "      <td>NaN</td>\n",
       "      <td>NaN</td>\n",
       "      <td>NaN</td>\n",
       "      <td>NaN</td>\n",
       "      <td>NaN</td>\n",
       "      <td>[]</td>\n",
       "    </tr>\n",
       "    <tr>\n",
       "      <th>3</th>\n",
       "      <td>2020-04-01 21:11:07</td>\n",
       "      <td>🚩</td>\n",
       "      <td>santosodeto</td>\n",
       "      <td>Fumaça de cigarro pode propagar coronavírus? h...</td>\n",
       "      <td>0</td>\n",
       "      <td>1885</td>\n",
       "      <td>pt</td>\n",
       "      <td>NaN</td>\n",
       "      <td>NaN</td>\n",
       "      <td>NaN</td>\n",
       "      <td>NaN</td>\n",
       "      <td>NaN</td>\n",
       "      <td>[]</td>\n",
       "    </tr>\n",
       "    <tr>\n",
       "      <th>4</th>\n",
       "      <td>2020-03-19 17:49:40</td>\n",
       "      <td>Nova Impressão</td>\n",
       "      <td>novaimpressao_</td>\n",
       "      <td>🚨Todos juntos contra COVID-19💪\\n\\nSolicite seu...</td>\n",
       "      <td>0</td>\n",
       "      <td>124</td>\n",
       "      <td>pt</td>\n",
       "      <td>Brasília</td>\n",
       "      <td>Brazil</td>\n",
       "      <td>BR</td>\n",
       "      <td>-47.8778</td>\n",
       "      <td>-15.77691</td>\n",
       "      <td>[]</td>\n",
       "    </tr>\n",
       "  </tbody>\n",
       "</table>\n",
       "</div>"
      ],
      "text/plain": [
       "                  data              usuario          apelido  \\\n",
       "0  2020-03-23 18:51:14             Gaboardi          fraslee   \n",
       "1  2020-03-18 03:18:14   Seu Zé da Farmácia  seuzedafarmacia   \n",
       "2  2020-03-29 12:09:27  Marília Oliveira 🇧🇷  Marioliveira_gb   \n",
       "3  2020-04-01 21:11:07                    🚩      santosodeto   \n",
       "4  2020-03-19 17:49:40       Nova Impressão   novaimpressao_   \n",
       "\n",
       "                                               texto  retweet  seguidores  \\\n",
       "0  @BolsonaroSP Cade o fundão deputado??? Congres...        0         138   \n",
       "1  Em ação preventiva, o Governo do Estado suspen...        0          56   \n",
       "2  Incrível como os defensores do fim do distanci...        0           5   \n",
       "3  Fumaça de cigarro pode propagar coronavírus? h...        0        1885   \n",
       "4  🚨Todos juntos contra COVID-19💪\\n\\nSolicite seu...        0         124   \n",
       "\n",
       "  idioma     lugar    pais sigla  latitude  longitude hashtags  \n",
       "0     pt       NaN     NaN   NaN       NaN        NaN       []  \n",
       "1     pt       NaN     NaN   NaN       NaN        NaN       []  \n",
       "2     pt       NaN     NaN   NaN       NaN        NaN       []  \n",
       "3     pt       NaN     NaN   NaN       NaN        NaN       []  \n",
       "4     pt  Brasília  Brazil    BR  -47.8778  -15.77691       []  "
      ]
     },
     "execution_count": 50,
     "metadata": {},
     "output_type": "execute_result"
    }
   ],
   "source": [
    "BD.head()"
   ]
  },
  {
   "cell_type": "code",
   "execution_count": 10,
   "metadata": {},
   "outputs": [],
   "source": [
    "#table= BD['texto']"
   ]
  },
  {
   "cell_type": "code",
   "execution_count": 51,
   "metadata": {},
   "outputs": [
    {
     "data": {
      "text/plain": [
       "2"
      ]
     },
     "execution_count": 51,
     "metadata": {},
     "output_type": "execute_result"
    }
   ],
   "source": [
    "BD.duplicated().sum()"
   ]
  },
  {
   "cell_type": "code",
   "execution_count": 8,
   "metadata": {},
   "outputs": [
    {
     "data": {
      "text/plain": [
       "posicao      0\n",
       "apelido      0\n",
       "data         0\n",
       "texto        0\n",
       "idioma       0\n",
       "pais         0\n",
       "latitude     0\n",
       "longitude    0\n",
       "sigla        0\n",
       "lugar        0\n",
       "resumo       0\n",
       "dtype: int64"
      ]
     },
     "execution_count": 8,
     "metadata": {},
     "output_type": "execute_result"
    }
   ],
   "source": [
    "BD.isnull().sum() #contando (identificando) dados faltantes"
   ]
  },
  {
   "cell_type": "code",
   "execution_count": 27,
   "metadata": {},
   "outputs": [],
   "source": [
    "BD.dropna (inplace=True) #limpando dados nulos de todo o banco"
   ]
  },
  {
   "cell_type": "code",
   "execution_count": 28,
   "metadata": {
    "scrolled": true
   },
   "outputs": [
    {
     "data": {
      "text/html": [
       "<div>\n",
       "<style scoped>\n",
       "    .dataframe tbody tr th:only-of-type {\n",
       "        vertical-align: middle;\n",
       "    }\n",
       "\n",
       "    .dataframe tbody tr th {\n",
       "        vertical-align: top;\n",
       "    }\n",
       "\n",
       "    .dataframe thead th {\n",
       "        text-align: right;\n",
       "    }\n",
       "</style>\n",
       "<table border=\"1\" class=\"dataframe\">\n",
       "  <thead>\n",
       "    <tr style=\"text-align: right;\">\n",
       "      <th></th>\n",
       "      <th>posicao</th>\n",
       "      <th>apelido</th>\n",
       "      <th>data</th>\n",
       "      <th>texto</th>\n",
       "      <th>idioma</th>\n",
       "      <th>pais</th>\n",
       "      <th>latitude</th>\n",
       "      <th>longitude</th>\n",
       "      <th>sigla</th>\n",
       "      <th>lugar</th>\n",
       "      <th>resumo</th>\n",
       "    </tr>\n",
       "  </thead>\n",
       "  <tbody>\n",
       "    <tr>\n",
       "      <th>0</th>\n",
       "      <td>0</td>\n",
       "      <td>ronaldo2910</td>\n",
       "      <td>2020-05-22 02:09:03</td>\n",
       "      <td>\"... cômico ou trágico?... a direita toma clor...</td>\n",
       "      <td>pt</td>\n",
       "      <td>brazil</td>\n",
       "      <td>-48.019070</td>\n",
       "      <td>-16.022673</td>\n",
       "      <td>BR</td>\n",
       "      <td>brasília</td>\n",
       "      <td>\"...cômicooutrágico?...ad</td>\n",
       "    </tr>\n",
       "    <tr>\n",
       "      <th>1</th>\n",
       "      <td>1</td>\n",
       "      <td>r2_macedo</td>\n",
       "      <td>2020-03-26 22:32:01</td>\n",
       "      <td>\"então você é o coronavírus?\"\\r\\n.\\r\\n.\\r\\n.\\r...</td>\n",
       "      <td>pt</td>\n",
       "      <td>brazil</td>\n",
       "      <td>-43.179898</td>\n",
       "      <td>-22.895216</td>\n",
       "      <td>BR</td>\n",
       "      <td>rio de janeiro</td>\n",
       "      <td>\"entãovocêéocoronavírus?\"</td>\n",
       "    </tr>\n",
       "    <tr>\n",
       "      <th>2</th>\n",
       "      <td>2</td>\n",
       "      <td>clauberaraujo</td>\n",
       "      <td>2020-05-25 01:04:52</td>\n",
       "      <td>\"estamos no mesmo barco!\" \\r\\n\\r\\nagente quem ...</td>\n",
       "      <td>pt</td>\n",
       "      <td>brazil</td>\n",
       "      <td>-43.306230</td>\n",
       "      <td>-22.899860</td>\n",
       "      <td>BR</td>\n",
       "      <td>rio de janeiro</td>\n",
       "      <td>\"estamosnomesmobarco!\"age</td>\n",
       "    </tr>\n",
       "    <tr>\n",
       "      <th>3</th>\n",
       "      <td>3</td>\n",
       "      <td>2018tatinha</td>\n",
       "      <td>2020-06-29 21:03:18</td>\n",
       "      <td>\"fondue mix de frutas da chiquinhosorvetes? do...</td>\n",
       "      <td>pt</td>\n",
       "      <td>brazil</td>\n",
       "      <td>-38.476700</td>\n",
       "      <td>-12.974700</td>\n",
       "      <td>BR</td>\n",
       "      <td>salvador</td>\n",
       "      <td>\"fonduemixdefrutasdachiqu</td>\n",
       "    </tr>\n",
       "    <tr>\n",
       "      <th>4</th>\n",
       "      <td>4</td>\n",
       "      <td>profandreylemos</td>\n",
       "      <td>2020-05-31 21:20:47</td>\n",
       "      <td>\"o povo que não conhece sua história, está con...</td>\n",
       "      <td>pt</td>\n",
       "      <td>brazil</td>\n",
       "      <td>-47.956205</td>\n",
       "      <td>-15.856996</td>\n",
       "      <td>BR</td>\n",
       "      <td>brasília</td>\n",
       "      <td>\"opovoquenãoconhecesuahis</td>\n",
       "    </tr>\n",
       "    <tr>\n",
       "      <th>...</th>\n",
       "      <td>...</td>\n",
       "      <td>...</td>\n",
       "      <td>...</td>\n",
       "      <td>...</td>\n",
       "      <td>...</td>\n",
       "      <td>...</td>\n",
       "      <td>...</td>\n",
       "      <td>...</td>\n",
       "      <td>...</td>\n",
       "      <td>...</td>\n",
       "      <td>...</td>\n",
       "    </tr>\n",
       "    <tr>\n",
       "      <th>556</th>\n",
       "      <td>556</td>\n",
       "      <td>priscillafreire</td>\n",
       "      <td>2020-04-05 15:56:52</td>\n",
       "      <td>💁‍♀️🤩 #lookdodia... aliás, do fim de semana ha...</td>\n",
       "      <td>pt</td>\n",
       "      <td>brazil</td>\n",
       "      <td>-35.209500</td>\n",
       "      <td>-5.800800</td>\n",
       "      <td>BR</td>\n",
       "      <td>natal</td>\n",
       "      <td>💁‍♀️🤩#lookdodia...aliás,d</td>\n",
       "    </tr>\n",
       "    <tr>\n",
       "      <th>557</th>\n",
       "      <td>557</td>\n",
       "      <td>paulo_do_valle</td>\n",
       "      <td>2020-05-19 20:07:22</td>\n",
       "      <td>🔯🔯🔯 onde queremos chegar? choremos a nossa des...</td>\n",
       "      <td>pt</td>\n",
       "      <td>brazil</td>\n",
       "      <td>-46.633300</td>\n",
       "      <td>-23.550000</td>\n",
       "      <td>BR</td>\n",
       "      <td>sao paulo</td>\n",
       "      <td>🔯🔯🔯ondequeremoschegar?cho</td>\n",
       "    </tr>\n",
       "    <tr>\n",
       "      <th>558</th>\n",
       "      <td>558</td>\n",
       "      <td>regiotec</td>\n",
       "      <td>2020-05-30 00:06:26</td>\n",
       "      <td>🔴 covid19\\r\\n\\r\\no sistema empregador web enlo...</td>\n",
       "      <td>pt</td>\n",
       "      <td>brazil</td>\n",
       "      <td>-47.939474</td>\n",
       "      <td>-19.760573</td>\n",
       "      <td>BR</td>\n",
       "      <td>uberaba</td>\n",
       "      <td>🔴covid19osistemaempregado</td>\n",
       "    </tr>\n",
       "    <tr>\n",
       "      <th>559</th>\n",
       "      <td>559</td>\n",
       "      <td>portaldeolimpia</td>\n",
       "      <td>2020-03-23 19:53:07</td>\n",
       "      <td>😷 ministério da saúde aprova medicina à distân...</td>\n",
       "      <td>pt</td>\n",
       "      <td>brazil</td>\n",
       "      <td>-48.911190</td>\n",
       "      <td>-20.737970</td>\n",
       "      <td>BR</td>\n",
       "      <td>olímpia</td>\n",
       "      <td>😷ministériodasaúdeaprovam</td>\n",
       "    </tr>\n",
       "    <tr>\n",
       "      <th>560</th>\n",
       "      <td>560</td>\n",
       "      <td>carreira_ci</td>\n",
       "      <td>2020-05-20 15:23:17</td>\n",
       "      <td>🤔 você está prestando atenção às oportunidades...</td>\n",
       "      <td>pt</td>\n",
       "      <td>australia</td>\n",
       "      <td>151.628566</td>\n",
       "      <td>-33.157229</td>\n",
       "      <td>AU</td>\n",
       "      <td>catherine hill bay</td>\n",
       "      <td>🤔vocêestáprestandoatenção</td>\n",
       "    </tr>\n",
       "  </tbody>\n",
       "</table>\n",
       "<p>561 rows × 11 columns</p>\n",
       "</div>"
      ],
      "text/plain": [
       "     posicao          apelido                 data  \\\n",
       "0          0      ronaldo2910  2020-05-22 02:09:03   \n",
       "1          1        r2_macedo  2020-03-26 22:32:01   \n",
       "2          2    clauberaraujo  2020-05-25 01:04:52   \n",
       "3          3      2018tatinha  2020-06-29 21:03:18   \n",
       "4          4  profandreylemos  2020-05-31 21:20:47   \n",
       "..       ...              ...                  ...   \n",
       "556      556  priscillafreire  2020-04-05 15:56:52   \n",
       "557      557   paulo_do_valle  2020-05-19 20:07:22   \n",
       "558      558         regiotec  2020-05-30 00:06:26   \n",
       "559      559  portaldeolimpia  2020-03-23 19:53:07   \n",
       "560      560      carreira_ci  2020-05-20 15:23:17   \n",
       "\n",
       "                                                 texto idioma       pais  \\\n",
       "0    \"... cômico ou trágico?... a direita toma clor...     pt     brazil   \n",
       "1    \"então você é o coronavírus?\"\\r\\n.\\r\\n.\\r\\n.\\r...     pt     brazil   \n",
       "2    \"estamos no mesmo barco!\" \\r\\n\\r\\nagente quem ...     pt     brazil   \n",
       "3    \"fondue mix de frutas da chiquinhosorvetes? do...     pt     brazil   \n",
       "4    \"o povo que não conhece sua história, está con...     pt     brazil   \n",
       "..                                                 ...    ...        ...   \n",
       "556  💁‍♀️🤩 #lookdodia... aliás, do fim de semana ha...     pt     brazil   \n",
       "557  🔯🔯🔯 onde queremos chegar? choremos a nossa des...     pt     brazil   \n",
       "558  🔴 covid19\\r\\n\\r\\no sistema empregador web enlo...     pt     brazil   \n",
       "559  😷 ministério da saúde aprova medicina à distân...     pt     brazil   \n",
       "560  🤔 você está prestando atenção às oportunidades...     pt  australia   \n",
       "\n",
       "       latitude  longitude sigla               lugar  \\\n",
       "0    -48.019070 -16.022673    BR            brasília   \n",
       "1    -43.179898 -22.895216    BR      rio de janeiro   \n",
       "2    -43.306230 -22.899860    BR      rio de janeiro   \n",
       "3    -38.476700 -12.974700    BR            salvador   \n",
       "4    -47.956205 -15.856996    BR            brasília   \n",
       "..          ...        ...   ...                 ...   \n",
       "556  -35.209500  -5.800800    BR               natal   \n",
       "557  -46.633300 -23.550000    BR           sao paulo   \n",
       "558  -47.939474 -19.760573    BR             uberaba   \n",
       "559  -48.911190 -20.737970    BR             olímpia   \n",
       "560  151.628566 -33.157229    AU  catherine hill bay   \n",
       "\n",
       "                        resumo  \n",
       "0    \"...cômicooutrágico?...ad  \n",
       "1    \"entãovocêéocoronavírus?\"  \n",
       "2    \"estamosnomesmobarco!\"age  \n",
       "3    \"fonduemixdefrutasdachiqu  \n",
       "4    \"opovoquenãoconhecesuahis  \n",
       "..                         ...  \n",
       "556  💁‍♀️🤩#lookdodia...aliás,d  \n",
       "557  🔯🔯🔯ondequeremoschegar?cho  \n",
       "558  🔴covid19osistemaempregado  \n",
       "559  😷ministériodasaúdeaprovam  \n",
       "560  🤔vocêestáprestandoatenção  \n",
       "\n",
       "[561 rows x 11 columns]"
      ]
     },
     "execution_count": 28,
     "metadata": {},
     "output_type": "execute_result"
    }
   ],
   "source": [
    "\n",
    "\n",
    "BD"
   ]
  },
  {
   "cell_type": "code",
   "execution_count": null,
   "metadata": {},
   "outputs": [],
   "source": []
  },
  {
   "cell_type": "code",
   "execution_count": 29,
   "metadata": {},
   "outputs": [],
   "source": [
    "banco=BD.loc[BD['idioma']=='pt'] "
   ]
  },
  {
   "cell_type": "code",
   "execution_count": 30,
   "metadata": {},
   "outputs": [
    {
     "data": {
      "text/html": [
       "<div>\n",
       "<style scoped>\n",
       "    .dataframe tbody tr th:only-of-type {\n",
       "        vertical-align: middle;\n",
       "    }\n",
       "\n",
       "    .dataframe tbody tr th {\n",
       "        vertical-align: top;\n",
       "    }\n",
       "\n",
       "    .dataframe thead th {\n",
       "        text-align: right;\n",
       "    }\n",
       "</style>\n",
       "<table border=\"1\" class=\"dataframe\">\n",
       "  <thead>\n",
       "    <tr style=\"text-align: right;\">\n",
       "      <th></th>\n",
       "      <th>posicao</th>\n",
       "      <th>apelido</th>\n",
       "      <th>data</th>\n",
       "      <th>texto</th>\n",
       "      <th>idioma</th>\n",
       "      <th>pais</th>\n",
       "      <th>latitude</th>\n",
       "      <th>longitude</th>\n",
       "      <th>sigla</th>\n",
       "      <th>lugar</th>\n",
       "      <th>resumo</th>\n",
       "    </tr>\n",
       "  </thead>\n",
       "  <tbody>\n",
       "    <tr>\n",
       "      <th>0</th>\n",
       "      <td>0</td>\n",
       "      <td>ronaldo2910</td>\n",
       "      <td>2020-05-22 02:09:03</td>\n",
       "      <td>\"... cômico ou trágico?... a direita toma clor...</td>\n",
       "      <td>pt</td>\n",
       "      <td>brazil</td>\n",
       "      <td>-48.019070</td>\n",
       "      <td>-16.022673</td>\n",
       "      <td>BR</td>\n",
       "      <td>brasília</td>\n",
       "      <td>\"...cômicooutrágico?...ad</td>\n",
       "    </tr>\n",
       "    <tr>\n",
       "      <th>1</th>\n",
       "      <td>1</td>\n",
       "      <td>r2_macedo</td>\n",
       "      <td>2020-03-26 22:32:01</td>\n",
       "      <td>\"então você é o coronavírus?\"\\r\\n.\\r\\n.\\r\\n.\\r...</td>\n",
       "      <td>pt</td>\n",
       "      <td>brazil</td>\n",
       "      <td>-43.179898</td>\n",
       "      <td>-22.895216</td>\n",
       "      <td>BR</td>\n",
       "      <td>rio de janeiro</td>\n",
       "      <td>\"entãovocêéocoronavírus?\"</td>\n",
       "    </tr>\n",
       "    <tr>\n",
       "      <th>2</th>\n",
       "      <td>2</td>\n",
       "      <td>clauberaraujo</td>\n",
       "      <td>2020-05-25 01:04:52</td>\n",
       "      <td>\"estamos no mesmo barco!\" \\r\\n\\r\\nagente quem ...</td>\n",
       "      <td>pt</td>\n",
       "      <td>brazil</td>\n",
       "      <td>-43.306230</td>\n",
       "      <td>-22.899860</td>\n",
       "      <td>BR</td>\n",
       "      <td>rio de janeiro</td>\n",
       "      <td>\"estamosnomesmobarco!\"age</td>\n",
       "    </tr>\n",
       "    <tr>\n",
       "      <th>3</th>\n",
       "      <td>3</td>\n",
       "      <td>2018tatinha</td>\n",
       "      <td>2020-06-29 21:03:18</td>\n",
       "      <td>\"fondue mix de frutas da chiquinhosorvetes? do...</td>\n",
       "      <td>pt</td>\n",
       "      <td>brazil</td>\n",
       "      <td>-38.476700</td>\n",
       "      <td>-12.974700</td>\n",
       "      <td>BR</td>\n",
       "      <td>salvador</td>\n",
       "      <td>\"fonduemixdefrutasdachiqu</td>\n",
       "    </tr>\n",
       "    <tr>\n",
       "      <th>4</th>\n",
       "      <td>4</td>\n",
       "      <td>profandreylemos</td>\n",
       "      <td>2020-05-31 21:20:47</td>\n",
       "      <td>\"o povo que não conhece sua história, está con...</td>\n",
       "      <td>pt</td>\n",
       "      <td>brazil</td>\n",
       "      <td>-47.956205</td>\n",
       "      <td>-15.856996</td>\n",
       "      <td>BR</td>\n",
       "      <td>brasília</td>\n",
       "      <td>\"opovoquenãoconhecesuahis</td>\n",
       "    </tr>\n",
       "    <tr>\n",
       "      <th>...</th>\n",
       "      <td>...</td>\n",
       "      <td>...</td>\n",
       "      <td>...</td>\n",
       "      <td>...</td>\n",
       "      <td>...</td>\n",
       "      <td>...</td>\n",
       "      <td>...</td>\n",
       "      <td>...</td>\n",
       "      <td>...</td>\n",
       "      <td>...</td>\n",
       "      <td>...</td>\n",
       "    </tr>\n",
       "    <tr>\n",
       "      <th>556</th>\n",
       "      <td>556</td>\n",
       "      <td>priscillafreire</td>\n",
       "      <td>2020-04-05 15:56:52</td>\n",
       "      <td>💁‍♀️🤩 #lookdodia... aliás, do fim de semana ha...</td>\n",
       "      <td>pt</td>\n",
       "      <td>brazil</td>\n",
       "      <td>-35.209500</td>\n",
       "      <td>-5.800800</td>\n",
       "      <td>BR</td>\n",
       "      <td>natal</td>\n",
       "      <td>💁‍♀️🤩#lookdodia...aliás,d</td>\n",
       "    </tr>\n",
       "    <tr>\n",
       "      <th>557</th>\n",
       "      <td>557</td>\n",
       "      <td>paulo_do_valle</td>\n",
       "      <td>2020-05-19 20:07:22</td>\n",
       "      <td>🔯🔯🔯 onde queremos chegar? choremos a nossa des...</td>\n",
       "      <td>pt</td>\n",
       "      <td>brazil</td>\n",
       "      <td>-46.633300</td>\n",
       "      <td>-23.550000</td>\n",
       "      <td>BR</td>\n",
       "      <td>sao paulo</td>\n",
       "      <td>🔯🔯🔯ondequeremoschegar?cho</td>\n",
       "    </tr>\n",
       "    <tr>\n",
       "      <th>558</th>\n",
       "      <td>558</td>\n",
       "      <td>regiotec</td>\n",
       "      <td>2020-05-30 00:06:26</td>\n",
       "      <td>🔴 covid19\\r\\n\\r\\no sistema empregador web enlo...</td>\n",
       "      <td>pt</td>\n",
       "      <td>brazil</td>\n",
       "      <td>-47.939474</td>\n",
       "      <td>-19.760573</td>\n",
       "      <td>BR</td>\n",
       "      <td>uberaba</td>\n",
       "      <td>🔴covid19osistemaempregado</td>\n",
       "    </tr>\n",
       "    <tr>\n",
       "      <th>559</th>\n",
       "      <td>559</td>\n",
       "      <td>portaldeolimpia</td>\n",
       "      <td>2020-03-23 19:53:07</td>\n",
       "      <td>😷 ministério da saúde aprova medicina à distân...</td>\n",
       "      <td>pt</td>\n",
       "      <td>brazil</td>\n",
       "      <td>-48.911190</td>\n",
       "      <td>-20.737970</td>\n",
       "      <td>BR</td>\n",
       "      <td>olímpia</td>\n",
       "      <td>😷ministériodasaúdeaprovam</td>\n",
       "    </tr>\n",
       "    <tr>\n",
       "      <th>560</th>\n",
       "      <td>560</td>\n",
       "      <td>carreira_ci</td>\n",
       "      <td>2020-05-20 15:23:17</td>\n",
       "      <td>🤔 você está prestando atenção às oportunidades...</td>\n",
       "      <td>pt</td>\n",
       "      <td>australia</td>\n",
       "      <td>151.628566</td>\n",
       "      <td>-33.157229</td>\n",
       "      <td>AU</td>\n",
       "      <td>catherine hill bay</td>\n",
       "      <td>🤔vocêestáprestandoatenção</td>\n",
       "    </tr>\n",
       "  </tbody>\n",
       "</table>\n",
       "<p>559 rows × 11 columns</p>\n",
       "</div>"
      ],
      "text/plain": [
       "     posicao          apelido                 data  \\\n",
       "0          0      ronaldo2910  2020-05-22 02:09:03   \n",
       "1          1        r2_macedo  2020-03-26 22:32:01   \n",
       "2          2    clauberaraujo  2020-05-25 01:04:52   \n",
       "3          3      2018tatinha  2020-06-29 21:03:18   \n",
       "4          4  profandreylemos  2020-05-31 21:20:47   \n",
       "..       ...              ...                  ...   \n",
       "556      556  priscillafreire  2020-04-05 15:56:52   \n",
       "557      557   paulo_do_valle  2020-05-19 20:07:22   \n",
       "558      558         regiotec  2020-05-30 00:06:26   \n",
       "559      559  portaldeolimpia  2020-03-23 19:53:07   \n",
       "560      560      carreira_ci  2020-05-20 15:23:17   \n",
       "\n",
       "                                                 texto idioma       pais  \\\n",
       "0    \"... cômico ou trágico?... a direita toma clor...     pt     brazil   \n",
       "1    \"então você é o coronavírus?\"\\r\\n.\\r\\n.\\r\\n.\\r...     pt     brazil   \n",
       "2    \"estamos no mesmo barco!\" \\r\\n\\r\\nagente quem ...     pt     brazil   \n",
       "3    \"fondue mix de frutas da chiquinhosorvetes? do...     pt     brazil   \n",
       "4    \"o povo que não conhece sua história, está con...     pt     brazil   \n",
       "..                                                 ...    ...        ...   \n",
       "556  💁‍♀️🤩 #lookdodia... aliás, do fim de semana ha...     pt     brazil   \n",
       "557  🔯🔯🔯 onde queremos chegar? choremos a nossa des...     pt     brazil   \n",
       "558  🔴 covid19\\r\\n\\r\\no sistema empregador web enlo...     pt     brazil   \n",
       "559  😷 ministério da saúde aprova medicina à distân...     pt     brazil   \n",
       "560  🤔 você está prestando atenção às oportunidades...     pt  australia   \n",
       "\n",
       "       latitude  longitude sigla               lugar  \\\n",
       "0    -48.019070 -16.022673    BR            brasília   \n",
       "1    -43.179898 -22.895216    BR      rio de janeiro   \n",
       "2    -43.306230 -22.899860    BR      rio de janeiro   \n",
       "3    -38.476700 -12.974700    BR            salvador   \n",
       "4    -47.956205 -15.856996    BR            brasília   \n",
       "..          ...        ...   ...                 ...   \n",
       "556  -35.209500  -5.800800    BR               natal   \n",
       "557  -46.633300 -23.550000    BR           sao paulo   \n",
       "558  -47.939474 -19.760573    BR             uberaba   \n",
       "559  -48.911190 -20.737970    BR             olímpia   \n",
       "560  151.628566 -33.157229    AU  catherine hill bay   \n",
       "\n",
       "                        resumo  \n",
       "0    \"...cômicooutrágico?...ad  \n",
       "1    \"entãovocêéocoronavírus?\"  \n",
       "2    \"estamosnomesmobarco!\"age  \n",
       "3    \"fonduemixdefrutasdachiqu  \n",
       "4    \"opovoquenãoconhecesuahis  \n",
       "..                         ...  \n",
       "556  💁‍♀️🤩#lookdodia...aliás,d  \n",
       "557  🔯🔯🔯ondequeremoschegar?cho  \n",
       "558  🔴covid19osistemaempregado  \n",
       "559  😷ministériodasaúdeaprovam  \n",
       "560  🤔vocêestáprestandoatenção  \n",
       "\n",
       "[559 rows x 11 columns]"
      ]
     },
     "execution_count": 30,
     "metadata": {},
     "output_type": "execute_result"
    }
   ],
   "source": [
    "banco"
   ]
  },
  {
   "cell_type": "code",
   "execution_count": 18,
   "metadata": {
    "scrolled": true
   },
   "outputs": [
    {
     "data": {
      "text/html": [
       "<div>\n",
       "<style scoped>\n",
       "    .dataframe tbody tr th:only-of-type {\n",
       "        vertical-align: middle;\n",
       "    }\n",
       "\n",
       "    .dataframe tbody tr th {\n",
       "        vertical-align: top;\n",
       "    }\n",
       "\n",
       "    .dataframe thead th {\n",
       "        text-align: right;\n",
       "    }\n",
       "</style>\n",
       "<table border=\"1\" class=\"dataframe\">\n",
       "  <thead>\n",
       "    <tr style=\"text-align: right;\">\n",
       "      <th></th>\n",
       "      <th>data</th>\n",
       "      <th>usuario</th>\n",
       "      <th>apelido</th>\n",
       "      <th>texto</th>\n",
       "      <th>retweet</th>\n",
       "      <th>seguidores</th>\n",
       "      <th>idioma</th>\n",
       "      <th>lugar</th>\n",
       "      <th>pais</th>\n",
       "      <th>sigla</th>\n",
       "      <th>latitude</th>\n",
       "      <th>longitude</th>\n",
       "      <th>hashtags</th>\n",
       "    </tr>\n",
       "  </thead>\n",
       "  <tbody>\n",
       "    <tr>\n",
       "      <th>4</th>\n",
       "      <td>2020-03-19 17:49:40</td>\n",
       "      <td>Nova Impressão</td>\n",
       "      <td>novaimpressao_</td>\n",
       "      <td>🚨Todos juntos contra COVID-19💪\\n\\nSolicite seu...</td>\n",
       "      <td>0</td>\n",
       "      <td>124</td>\n",
       "      <td>pt</td>\n",
       "      <td>Brasília</td>\n",
       "      <td>Brazil</td>\n",
       "      <td>BR</td>\n",
       "      <td>-47.87780</td>\n",
       "      <td>-15.776910</td>\n",
       "      <td>[]</td>\n",
       "    </tr>\n",
       "    <tr>\n",
       "      <th>261</th>\n",
       "      <td>2020-04-16 00:34:54</td>\n",
       "      <td>Felipe Silva</td>\n",
       "      <td>felipesilvasr</td>\n",
       "      <td>A secretaria de Saúde da Paraíba confirmou nes...</td>\n",
       "      <td>0</td>\n",
       "      <td>150</td>\n",
       "      <td>pt</td>\n",
       "      <td>Taperoá</td>\n",
       "      <td>Brazil</td>\n",
       "      <td>BR</td>\n",
       "      <td>-36.82500</td>\n",
       "      <td>-7.162778</td>\n",
       "      <td>[]</td>\n",
       "    </tr>\n",
       "    <tr>\n",
       "      <th>265</th>\n",
       "      <td>2020-05-03 13:48:52</td>\n",
       "      <td>Bruno Fortes</td>\n",
       "      <td>Brunaogf</td>\n",
       "      <td>Domingão taí! ☀️\\nEm casa! 😐😬\\nVai passar! 🙏🏼\\...</td>\n",
       "      <td>0</td>\n",
       "      <td>120</td>\n",
       "      <td>pt</td>\n",
       "      <td>Fortaleza</td>\n",
       "      <td>Brazil</td>\n",
       "      <td>BR</td>\n",
       "      <td>-38.52660</td>\n",
       "      <td>-3.729300</td>\n",
       "      <td>['emcasa', 'isolamentosocial', 'saude', 'quero...</td>\n",
       "    </tr>\n",
       "    <tr>\n",
       "      <th>289</th>\n",
       "      <td>2020-03-31 17:52:37</td>\n",
       "      <td>jairo santos souza</td>\n",
       "      <td>soi_jairo</td>\n",
       "      <td>Seguindo orientação do Presidente Bolsonaro, o...</td>\n",
       "      <td>0</td>\n",
       "      <td>22</td>\n",
       "      <td>pt</td>\n",
       "      <td>Euclides da Cunha</td>\n",
       "      <td>Brazil</td>\n",
       "      <td>BR</td>\n",
       "      <td>-39.01462</td>\n",
       "      <td>-10.505250</td>\n",
       "      <td>[]</td>\n",
       "    </tr>\n",
       "    <tr>\n",
       "      <th>477</th>\n",
       "      <td>2020-03-24 17:27:29</td>\n",
       "      <td>Carolina Porne</td>\n",
       "      <td>carolinaporne</td>\n",
       "      <td>#5 - Isolamento social não é desculpa para fic...</td>\n",
       "      <td>0</td>\n",
       "      <td>373</td>\n",
       "      <td>pt</td>\n",
       "      <td>Guarulhos</td>\n",
       "      <td>Brazil</td>\n",
       "      <td>BR</td>\n",
       "      <td>-46.49560</td>\n",
       "      <td>-23.445600</td>\n",
       "      <td>[]</td>\n",
       "    </tr>\n",
       "  </tbody>\n",
       "</table>\n",
       "</div>"
      ],
      "text/plain": [
       "                    data             usuario         apelido  \\\n",
       "4    2020-03-19 17:49:40      Nova Impressão  novaimpressao_   \n",
       "261  2020-04-16 00:34:54        Felipe Silva   felipesilvasr   \n",
       "265  2020-05-03 13:48:52        Bruno Fortes        Brunaogf   \n",
       "289  2020-03-31 17:52:37  jairo santos souza       soi_jairo   \n",
       "477  2020-03-24 17:27:29      Carolina Porne   carolinaporne   \n",
       "\n",
       "                                                 texto  retweet  seguidores  \\\n",
       "4    🚨Todos juntos contra COVID-19💪\\n\\nSolicite seu...        0         124   \n",
       "261  A secretaria de Saúde da Paraíba confirmou nes...        0         150   \n",
       "265  Domingão taí! ☀️\\nEm casa! 😐😬\\nVai passar! 🙏🏼\\...        0         120   \n",
       "289  Seguindo orientação do Presidente Bolsonaro, o...        0          22   \n",
       "477  #5 - Isolamento social não é desculpa para fic...        0         373   \n",
       "\n",
       "    idioma              lugar    pais sigla  latitude  longitude  \\\n",
       "4       pt           Brasília  Brazil    BR -47.87780 -15.776910   \n",
       "261     pt            Taperoá  Brazil    BR -36.82500  -7.162778   \n",
       "265     pt          Fortaleza  Brazil    BR -38.52660  -3.729300   \n",
       "289     pt  Euclides da Cunha  Brazil    BR -39.01462 -10.505250   \n",
       "477     pt          Guarulhos  Brazil    BR -46.49560 -23.445600   \n",
       "\n",
       "                                              hashtags  \n",
       "4                                                   []  \n",
       "261                                                 []  \n",
       "265  ['emcasa', 'isolamentosocial', 'saude', 'quero...  \n",
       "289                                                 []  \n",
       "477                                                 []  "
      ]
     },
     "execution_count": 18,
     "metadata": {},
     "output_type": "execute_result"
    }
   ],
   "source": [
    "banco.head()\n"
   ]
  },
  {
   "cell_type": "code",
   "execution_count": 16,
   "metadata": {},
   "outputs": [
    {
     "name": "stderr",
     "output_type": "stream",
     "text": [
      "<ipython-input-16-9b63c98b907a>:1: SettingWithCopyWarning: \n",
      "A value is trying to be set on a copy of a slice from a DataFrame\n",
      "\n",
      "See the caveats in the documentation: https://pandas.pydata.org/pandas-docs/stable/user_guide/indexing.html#returning-a-view-versus-a-copy\n",
      "  banco.dropna (inplace=True) #limpando dados nulos de todo o banco\n"
     ]
    }
   ],
   "source": [
    "#banco.dropna (inplace=True) #limpando dados nulos de todo o banco (já feito)"
   ]
  },
  {
   "cell_type": "code",
   "execution_count": 31,
   "metadata": {},
   "outputs": [
    {
     "name": "stdout",
     "output_type": "stream",
     "text": [
      "Requirement already satisfied: folium in c:\\programdata\\anaconda3\\lib\\site-packages (0.11.0)\n",
      "Requirement already satisfied: numpy in c:\\programdata\\anaconda3\\lib\\site-packages (from folium) (1.18.5)\n",
      "Requirement already satisfied: branca>=0.3.0 in c:\\programdata\\anaconda3\\lib\\site-packages (from folium) (0.4.1)\n",
      "Requirement already satisfied: requests in c:\\programdata\\anaconda3\\lib\\site-packages (from folium) (2.24.0)\n",
      "Requirement already satisfied: jinja2>=2.9 in c:\\programdata\\anaconda3\\lib\\site-packages (from folium) (2.11.2)\n",
      "Requirement already satisfied: certifi>=2017.4.17 in c:\\programdata\\anaconda3\\lib\\site-packages (from requests->folium) (2020.6.20)\n",
      "Requirement already satisfied: idna<3,>=2.5 in c:\\programdata\\anaconda3\\lib\\site-packages (from requests->folium) (2.10)\n",
      "Requirement already satisfied: urllib3!=1.25.0,!=1.25.1,<1.26,>=1.21.1 in c:\\programdata\\anaconda3\\lib\\site-packages (from requests->folium) (1.25.9)\n",
      "Requirement already satisfied: chardet<4,>=3.0.2 in c:\\programdata\\anaconda3\\lib\\site-packages (from requests->folium) (3.0.4)\n",
      "Requirement already satisfied: MarkupSafe>=0.23 in c:\\programdata\\anaconda3\\lib\\site-packages (from jinja2>=2.9->folium) (1.1.1)\n",
      "Note: you may need to restart the kernel to use updated packages.\n"
     ]
    }
   ],
   "source": [
    "pip install folium"
   ]
  },
  {
   "cell_type": "code",
   "execution_count": 32,
   "metadata": {},
   "outputs": [],
   "source": [
    "mapa=folium.Map(location=[-15.776910,-47.87780],\n",
    "  tiles='Stamen Terrain', zoom_start=10)"
   ]
  },
  {
   "cell_type": "code",
   "execution_count": 33,
   "metadata": {},
   "outputs": [
    {
     "data": {
      "text/plain": [
       "<folium.map.Marker at 0xd5a5370>"
      ]
     },
     "execution_count": 33,
     "metadata": {},
     "output_type": "execute_result"
    }
   ],
   "source": [
    "folium.Marker([-15.776910,-47.87780],tooltip='Clique aqui!', icon=folium.Icon(color='green')).add_to(mapa)#marcador comum\n"
   ]
  },
  {
   "cell_type": "code",
   "execution_count": 34,
   "metadata": {},
   "outputs": [
    {
     "data": {
      "text/plain": [
       "<folium.vector_layers.CircleMarker at 0xd5bd940>"
      ]
     },
     "execution_count": 34,
     "metadata": {},
     "output_type": "execute_result"
    }
   ],
   "source": [
    "folium.CircleMarker(location=[-15.776910,-47.87780],\n",
    "                   radius=10,\n",
    "                   color='#3186cc',\n",
    "                   fill=True,\n",
    "                   fill_color='#3186cc').add_to(mapa)"
   ]
  },
  {
   "cell_type": "code",
   "execution_count": 23,
   "metadata": {},
   "outputs": [
    {
     "data": {
      "text/html": [
       "<div style=\"width:100%;\"><div style=\"position:relative;width:100%;height:0;padding-bottom:60%;\"><span style=\"color:#565656\">Make this Notebook Trusted to load map: File -> Trust Notebook</span><iframe src=\"about:blank\" style=\"position:absolute;width:100%;height:100%;left:0;top:0;border:none !important;\" data-html=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 onload=\"this.contentDocument.open();this.contentDocument.write(atob(this.getAttribute('data-html')));this.contentDocument.close();\" allowfullscreen webkitallowfullscreen mozallowfullscreen></iframe></div></div>"
      ],
      "text/plain": [
       "<folium.folium.Map at 0xc8e02e0>"
      ]
     },
     "execution_count": 23,
     "metadata": {},
     "output_type": "execute_result"
    }
   ],
   "source": [
    "mapa"
   ]
  },
  {
   "cell_type": "code",
   "execution_count": 14,
   "metadata": {},
   "outputs": [
    {
     "data": {
      "text/html": [
       "<div style=\"width:100%;\"><div style=\"position:relative;width:100%;height:0;padding-bottom:60%;\"><span style=\"color:#565656\">Make this Notebook Trusted to load map: File -> Trust Notebook</span><iframe src=\"about:blank\" style=\"position:absolute;width:100%;height:100%;left:0;top:0;border:none !important;\" data-html=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 onload=\"this.contentDocument.open();this.contentDocument.write(atob(this.getAttribute('data-html')));this.contentDocument.close();\" allowfullscreen webkitallowfullscreen mozallowfullscreen></iframe></div></div>"
      ],
      "text/plain": [
       "<folium.folium.Map at 0xc6f0760>"
      ]
     },
     "execution_count": 14,
     "metadata": {},
     "output_type": "execute_result"
    }
   ],
   "source": [
    "mapa.add_child(folium.LatLngPopup())#mostra a longitude e latitude de um local não marcado"
   ]
  },
  {
   "cell_type": "code",
   "execution_count": 1,
   "metadata": {},
   "outputs": [
    {
     "ename": "NameError",
     "evalue": "name 'BD' is not defined",
     "output_type": "error",
     "traceback": [
      "\u001b[1;31m---------------------------------------------------------------------------\u001b[0m",
      "\u001b[1;31mNameError\u001b[0m                                 Traceback (most recent call last)",
      "\u001b[1;32m<ipython-input-1-4ae165801634>\u001b[0m in \u001b[0;36m<module>\u001b[1;34m\u001b[0m\n\u001b[0;32m      1\u001b[0m \u001b[0mcoor\u001b[0m\u001b[1;33m=\u001b[0m\u001b[1;33m[\u001b[0m\u001b[1;33m]\u001b[0m\u001b[1;33m\u001b[0m\u001b[1;33m\u001b[0m\u001b[0m\n\u001b[1;32m----> 2\u001b[1;33m \u001b[1;32mfor\u001b[0m \u001b[0mlat\u001b[0m\u001b[1;33m,\u001b[0m\u001b[0mlng\u001b[0m \u001b[1;32min\u001b[0m \u001b[0mzip\u001b[0m \u001b[1;33m(\u001b[0m\u001b[0mBD\u001b[0m\u001b[1;33m.\u001b[0m\u001b[0mlongitude\u001b[0m\u001b[1;33m.\u001b[0m\u001b[0mvalues\u001b[0m\u001b[1;33m[\u001b[0m\u001b[1;33m:\u001b[0m\u001b[1;36m1000\u001b[0m\u001b[1;33m]\u001b[0m\u001b[1;33m,\u001b[0m\u001b[0mbanco\u001b[0m\u001b[1;33m.\u001b[0m\u001b[0mlatitude\u001b[0m\u001b[1;33m.\u001b[0m\u001b[0mvalues\u001b[0m\u001b[1;33m[\u001b[0m\u001b[1;33m:\u001b[0m\u001b[1;36m1000\u001b[0m\u001b[1;33m]\u001b[0m\u001b[1;33m)\u001b[0m\u001b[1;33m:\u001b[0m\u001b[0mcoor\u001b[0m\u001b[1;33m.\u001b[0m\u001b[0mappend\u001b[0m\u001b[1;33m(\u001b[0m\u001b[1;33m[\u001b[0m\u001b[0mlat\u001b[0m\u001b[1;33m,\u001b[0m\u001b[0mlng\u001b[0m\u001b[1;33m]\u001b[0m\u001b[1;33m)\u001b[0m\u001b[1;33m\u001b[0m\u001b[1;33m\u001b[0m\u001b[0m\n\u001b[0m",
      "\u001b[1;31mNameError\u001b[0m: name 'BD' is not defined"
     ]
    }
   ],
   "source": [
    "coor=[]\n",
    "for lat,lng in zip (BD.longitude.values[:1000],banco.latitude.values[:1000]):coor.append([lat,lng])"
   ]
  },
  {
   "cell_type": "code",
   "execution_count": 2,
   "metadata": {
    "scrolled": true
   },
   "outputs": [
    {
     "ename": "NameError",
     "evalue": "name 'folium' is not defined",
     "output_type": "error",
     "traceback": [
      "\u001b[1;31m---------------------------------------------------------------------------\u001b[0m",
      "\u001b[1;31mNameError\u001b[0m                                 Traceback (most recent call last)",
      "\u001b[1;32m<ipython-input-2-f1ef80f9e494>\u001b[0m in \u001b[0;36m<module>\u001b[1;34m\u001b[0m\n\u001b[1;32m----> 1\u001b[1;33m \u001b[0mmapa\u001b[0m\u001b[1;33m=\u001b[0m\u001b[0mfolium\u001b[0m\u001b[1;33m.\u001b[0m\u001b[0mMap\u001b[0m\u001b[1;33m(\u001b[0m\u001b[0mlocation\u001b[0m\u001b[1;33m=\u001b[0m\u001b[1;33m[\u001b[0m\u001b[1;33m-\u001b[0m\u001b[1;36m15.788497\u001b[0m\u001b[1;33m,\u001b[0m\u001b[1;33m-\u001b[0m\u001b[1;36m47.879873\u001b[0m\u001b[1;33m]\u001b[0m\u001b[1;33m,\u001b[0m\u001b[0mzoom_start\u001b[0m\u001b[1;33m=\u001b[0m\u001b[1;36m5\u001b[0m\u001b[1;33m,\u001b[0m\u001b[0mtitles\u001b[0m\u001b[1;33m=\u001b[0m\u001b[1;34m'Stamen Torner'\u001b[0m\u001b[1;33m)\u001b[0m\u001b[1;33m\u001b[0m\u001b[1;33m\u001b[0m\u001b[0m\n\u001b[0m",
      "\u001b[1;31mNameError\u001b[0m: name 'folium' is not defined"
     ]
    }
   ],
   "source": [
    "mapa=folium.Map(location=[-15.788497,-47.879873],zoom_start=5,titles='Stamen Torner')"
   ]
  },
  {
   "cell_type": "code",
   "execution_count": 3,
   "metadata": {},
   "outputs": [
    {
     "ename": "NameError",
     "evalue": "name 'mapa' is not defined",
     "output_type": "error",
     "traceback": [
      "\u001b[1;31m---------------------------------------------------------------------------\u001b[0m",
      "\u001b[1;31mNameError\u001b[0m                                 Traceback (most recent call last)",
      "\u001b[1;32m<ipython-input-3-a0695df84afa>\u001b[0m in \u001b[0;36m<module>\u001b[1;34m\u001b[0m\n\u001b[1;32m----> 1\u001b[1;33m \u001b[0mmapa\u001b[0m\u001b[1;33m.\u001b[0m\u001b[0madd_child\u001b[0m\u001b[1;33m(\u001b[0m\u001b[0mplugins\u001b[0m\u001b[1;33m.\u001b[0m\u001b[0mHeatMap\u001b[0m\u001b[1;33m(\u001b[0m\u001b[0mcoor\u001b[0m\u001b[1;33m)\u001b[0m\u001b[1;33m)\u001b[0m\u001b[1;33m\u001b[0m\u001b[1;33m\u001b[0m\u001b[0m\n\u001b[0m\u001b[0;32m      2\u001b[0m \u001b[0mmapa\u001b[0m\u001b[1;33m\u001b[0m\u001b[1;33m\u001b[0m\u001b[0m\n",
      "\u001b[1;31mNameError\u001b[0m: name 'mapa' is not defined"
     ]
    }
   ],
   "source": [
    "mapa.add_child(plugins.HeatMap(coor))\n",
    "mapa\n"
   ]
  },
  {
   "cell_type": "code",
   "execution_count": 26,
   "metadata": {},
   "outputs": [
    {
     "data": {
      "text/plain": [
       "0"
      ]
     },
     "execution_count": 26,
     "metadata": {},
     "output_type": "execute_result"
    }
   ],
   "source": [
    "len(coor)"
   ]
  },
  {
   "cell_type": "code",
   "execution_count": null,
   "metadata": {},
   "outputs": [],
   "source": [
    "dicFILTRO = {'TEXTO':[], 'LUGAR':[], 'HORARIO':[], 'AUTOR':[]}\n",
    "print(csvBrasilComLngLat.iloc[0])"
   ]
  },
  {
   "cell_type": "code",
   "execution_count": 31,
   "metadata": {},
   "outputs": [],
   "source": [
    "\n",
    "dicBD = {'TEXTO':[], 'LUGAR':['Fortaleza'], 'HORARIO':[], 'AUTOR':[]}\n"
   ]
  },
  {
   "cell_type": "code",
   "execution_count": 32,
   "metadata": {},
   "outputs": [
    {
     "name": "stdout",
     "output_type": "stream",
     "text": [
      "{'TEXTO': [], 'LUGAR': ['Fortaleza'], 'HORARIO': [], 'AUTOR': []}\n"
     ]
    }
   ],
   "source": [
    "print(dicBD)"
   ]
  },
  {
   "cell_type": "code",
   "execution_count": 47,
   "metadata": {},
   "outputs": [
    {
     "ename": "KeyError",
     "evalue": "'retweet'",
     "output_type": "error",
     "traceback": [
      "\u001b[1;31m---------------------------------------------------------------------------\u001b[0m",
      "\u001b[1;31mKeyError\u001b[0m                                  Traceback (most recent call last)",
      "\u001b[1;32mC:\\ProgramData\\Anaconda3\\lib\\site-packages\\pandas\\core\\indexes\\base.py\u001b[0m in \u001b[0;36mget_loc\u001b[1;34m(self, key, method, tolerance)\u001b[0m\n\u001b[0;32m   2645\u001b[0m             \u001b[1;32mtry\u001b[0m\u001b[1;33m:\u001b[0m\u001b[1;33m\u001b[0m\u001b[1;33m\u001b[0m\u001b[0m\n\u001b[1;32m-> 2646\u001b[1;33m                 \u001b[1;32mreturn\u001b[0m \u001b[0mself\u001b[0m\u001b[1;33m.\u001b[0m\u001b[0m_engine\u001b[0m\u001b[1;33m.\u001b[0m\u001b[0mget_loc\u001b[0m\u001b[1;33m(\u001b[0m\u001b[0mkey\u001b[0m\u001b[1;33m)\u001b[0m\u001b[1;33m\u001b[0m\u001b[1;33m\u001b[0m\u001b[0m\n\u001b[0m\u001b[0;32m   2647\u001b[0m             \u001b[1;32mexcept\u001b[0m \u001b[0mKeyError\u001b[0m\u001b[1;33m:\u001b[0m\u001b[1;33m\u001b[0m\u001b[1;33m\u001b[0m\u001b[0m\n",
      "\u001b[1;32mpandas\\_libs\\index.pyx\u001b[0m in \u001b[0;36mpandas._libs.index.IndexEngine.get_loc\u001b[1;34m()\u001b[0m\n",
      "\u001b[1;32mpandas\\_libs\\index.pyx\u001b[0m in \u001b[0;36mpandas._libs.index.IndexEngine.get_loc\u001b[1;34m()\u001b[0m\n",
      "\u001b[1;32mpandas\\_libs\\hashtable_class_helper.pxi\u001b[0m in \u001b[0;36mpandas._libs.hashtable.PyObjectHashTable.get_item\u001b[1;34m()\u001b[0m\n",
      "\u001b[1;32mpandas\\_libs\\hashtable_class_helper.pxi\u001b[0m in \u001b[0;36mpandas._libs.hashtable.PyObjectHashTable.get_item\u001b[1;34m()\u001b[0m\n",
      "\u001b[1;31mKeyError\u001b[0m: 'retweet'",
      "\nDuring handling of the above exception, another exception occurred:\n",
      "\u001b[1;31mKeyError\u001b[0m                                  Traceback (most recent call last)",
      "\u001b[1;32m<ipython-input-47-c4a3033aae55>\u001b[0m in \u001b[0;36m<module>\u001b[1;34m\u001b[0m\n\u001b[1;32m----> 1\u001b[1;33m \u001b[0mtable\u001b[0m\u001b[1;33m=\u001b[0m \u001b[0mBD\u001b[0m\u001b[1;33m[\u001b[0m\u001b[1;34m'retweet'\u001b[0m\u001b[1;33m]\u001b[0m\u001b[1;33m\u001b[0m\u001b[1;33m\u001b[0m\u001b[0m\n\u001b[0m",
      "\u001b[1;32mC:\\ProgramData\\Anaconda3\\lib\\site-packages\\pandas\\core\\frame.py\u001b[0m in \u001b[0;36m__getitem__\u001b[1;34m(self, key)\u001b[0m\n\u001b[0;32m   2798\u001b[0m             \u001b[1;32mif\u001b[0m \u001b[0mself\u001b[0m\u001b[1;33m.\u001b[0m\u001b[0mcolumns\u001b[0m\u001b[1;33m.\u001b[0m\u001b[0mnlevels\u001b[0m \u001b[1;33m>\u001b[0m \u001b[1;36m1\u001b[0m\u001b[1;33m:\u001b[0m\u001b[1;33m\u001b[0m\u001b[1;33m\u001b[0m\u001b[0m\n\u001b[0;32m   2799\u001b[0m                 \u001b[1;32mreturn\u001b[0m \u001b[0mself\u001b[0m\u001b[1;33m.\u001b[0m\u001b[0m_getitem_multilevel\u001b[0m\u001b[1;33m(\u001b[0m\u001b[0mkey\u001b[0m\u001b[1;33m)\u001b[0m\u001b[1;33m\u001b[0m\u001b[1;33m\u001b[0m\u001b[0m\n\u001b[1;32m-> 2800\u001b[1;33m             \u001b[0mindexer\u001b[0m \u001b[1;33m=\u001b[0m \u001b[0mself\u001b[0m\u001b[1;33m.\u001b[0m\u001b[0mcolumns\u001b[0m\u001b[1;33m.\u001b[0m\u001b[0mget_loc\u001b[0m\u001b[1;33m(\u001b[0m\u001b[0mkey\u001b[0m\u001b[1;33m)\u001b[0m\u001b[1;33m\u001b[0m\u001b[1;33m\u001b[0m\u001b[0m\n\u001b[0m\u001b[0;32m   2801\u001b[0m             \u001b[1;32mif\u001b[0m \u001b[0mis_integer\u001b[0m\u001b[1;33m(\u001b[0m\u001b[0mindexer\u001b[0m\u001b[1;33m)\u001b[0m\u001b[1;33m:\u001b[0m\u001b[1;33m\u001b[0m\u001b[1;33m\u001b[0m\u001b[0m\n\u001b[0;32m   2802\u001b[0m                 \u001b[0mindexer\u001b[0m \u001b[1;33m=\u001b[0m \u001b[1;33m[\u001b[0m\u001b[0mindexer\u001b[0m\u001b[1;33m]\u001b[0m\u001b[1;33m\u001b[0m\u001b[1;33m\u001b[0m\u001b[0m\n",
      "\u001b[1;32mC:\\ProgramData\\Anaconda3\\lib\\site-packages\\pandas\\core\\indexes\\base.py\u001b[0m in \u001b[0;36mget_loc\u001b[1;34m(self, key, method, tolerance)\u001b[0m\n\u001b[0;32m   2646\u001b[0m                 \u001b[1;32mreturn\u001b[0m \u001b[0mself\u001b[0m\u001b[1;33m.\u001b[0m\u001b[0m_engine\u001b[0m\u001b[1;33m.\u001b[0m\u001b[0mget_loc\u001b[0m\u001b[1;33m(\u001b[0m\u001b[0mkey\u001b[0m\u001b[1;33m)\u001b[0m\u001b[1;33m\u001b[0m\u001b[1;33m\u001b[0m\u001b[0m\n\u001b[0;32m   2647\u001b[0m             \u001b[1;32mexcept\u001b[0m \u001b[0mKeyError\u001b[0m\u001b[1;33m:\u001b[0m\u001b[1;33m\u001b[0m\u001b[1;33m\u001b[0m\u001b[0m\n\u001b[1;32m-> 2648\u001b[1;33m                 \u001b[1;32mreturn\u001b[0m \u001b[0mself\u001b[0m\u001b[1;33m.\u001b[0m\u001b[0m_engine\u001b[0m\u001b[1;33m.\u001b[0m\u001b[0mget_loc\u001b[0m\u001b[1;33m(\u001b[0m\u001b[0mself\u001b[0m\u001b[1;33m.\u001b[0m\u001b[0m_maybe_cast_indexer\u001b[0m\u001b[1;33m(\u001b[0m\u001b[0mkey\u001b[0m\u001b[1;33m)\u001b[0m\u001b[1;33m)\u001b[0m\u001b[1;33m\u001b[0m\u001b[1;33m\u001b[0m\u001b[0m\n\u001b[0m\u001b[0;32m   2649\u001b[0m         \u001b[0mindexer\u001b[0m \u001b[1;33m=\u001b[0m \u001b[0mself\u001b[0m\u001b[1;33m.\u001b[0m\u001b[0mget_indexer\u001b[0m\u001b[1;33m(\u001b[0m\u001b[1;33m[\u001b[0m\u001b[0mkey\u001b[0m\u001b[1;33m]\u001b[0m\u001b[1;33m,\u001b[0m \u001b[0mmethod\u001b[0m\u001b[1;33m=\u001b[0m\u001b[0mmethod\u001b[0m\u001b[1;33m,\u001b[0m \u001b[0mtolerance\u001b[0m\u001b[1;33m=\u001b[0m\u001b[0mtolerance\u001b[0m\u001b[1;33m)\u001b[0m\u001b[1;33m\u001b[0m\u001b[1;33m\u001b[0m\u001b[0m\n\u001b[0;32m   2650\u001b[0m         \u001b[1;32mif\u001b[0m \u001b[0mindexer\u001b[0m\u001b[1;33m.\u001b[0m\u001b[0mndim\u001b[0m \u001b[1;33m>\u001b[0m \u001b[1;36m1\u001b[0m \u001b[1;32mor\u001b[0m \u001b[0mindexer\u001b[0m\u001b[1;33m.\u001b[0m\u001b[0msize\u001b[0m \u001b[1;33m>\u001b[0m \u001b[1;36m1\u001b[0m\u001b[1;33m:\u001b[0m\u001b[1;33m\u001b[0m\u001b[1;33m\u001b[0m\u001b[0m\n",
      "\u001b[1;32mpandas\\_libs\\index.pyx\u001b[0m in \u001b[0;36mpandas._libs.index.IndexEngine.get_loc\u001b[1;34m()\u001b[0m\n",
      "\u001b[1;32mpandas\\_libs\\index.pyx\u001b[0m in \u001b[0;36mpandas._libs.index.IndexEngine.get_loc\u001b[1;34m()\u001b[0m\n",
      "\u001b[1;32mpandas\\_libs\\hashtable_class_helper.pxi\u001b[0m in \u001b[0;36mpandas._libs.hashtable.PyObjectHashTable.get_item\u001b[1;34m()\u001b[0m\n",
      "\u001b[1;32mpandas\\_libs\\hashtable_class_helper.pxi\u001b[0m in \u001b[0;36mpandas._libs.hashtable.PyObjectHashTable.get_item\u001b[1;34m()\u001b[0m\n",
      "\u001b[1;31mKeyError\u001b[0m: 'retweet'"
     ]
    }
   ],
   "source": [
    "table= BD['retweet']"
   ]
  },
  {
   "cell_type": "code",
   "execution_count": 45,
   "metadata": {},
   "outputs": [],
   "source": [
    "\n",
    "\n",
    "    MIN= np.min(table)\n",
    " "
   ]
  },
  {
   "cell_type": "code",
   "execution_count": 46,
   "metadata": {},
   "outputs": [
    {
     "data": {
      "text/plain": [
       "'\"... cômico ou trágico?... a direita toma cloroquina e a direita tubaína, enquanto o maluco beleza, demite a regina… https://t.co/tbpkmcetqh'"
      ]
     },
     "execution_count": 46,
     "metadata": {},
     "output_type": "execute_result"
    }
   ],
   "source": [
    "MIN"
   ]
  },
  {
   "cell_type": "code",
   "execution_count": null,
   "metadata": {},
   "outputs": [],
   "source": []
  }
 ],
 "metadata": {
  "kernelspec": {
   "display_name": "Python 3",
   "language": "python",
   "name": "python3"
  },
  "language_info": {
   "codemirror_mode": {
    "name": "ipython",
    "version": 3
   },
   "file_extension": ".py",
   "mimetype": "text/x-python",
   "name": "python",
   "nbconvert_exporter": "python",
   "pygments_lexer": "ipython3",
   "version": "3.8.3"
  }
 },
 "nbformat": 4,
 "nbformat_minor": 4
}
